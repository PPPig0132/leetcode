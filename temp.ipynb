{
 "cells": [
  {
   "cell_type": "code",
   "execution_count": 1,
   "metadata": {},
   "outputs": [],
   "source": [
    "class ListNode:\n",
    "    def __init__(self, val=0, next=None):\n",
    "        self.val = val\n",
    "        self.next = next"
   ]
  },
  {
   "cell_type": "code",
   "execution_count": 25,
   "metadata": {},
   "outputs": [],
   "source": [
    "from typing import Optional\n",
    "class Solution:\n",
    "    def addTwoNumbers(self, l1: Optional[ListNode], l2: Optional[ListNode]) -> Optional[ListNode]:\n",
    "        if not l1:\n",
    "            return l2\n",
    "        if not l2:\n",
    "            return l1\n",
    "\n",
    "        head=l1\n",
    "        end=l1      #todo\n",
    "        pre=ListNode()\n",
    "        pre.next=end\n",
    "        carry=0#进位符\n",
    "        while(l1 or l2):\n",
    "            if(l1):\n",
    "                n=l1.val\n",
    "                l1=l1.next\n",
    "                if l1 and not l2:  #l1比l2长\n",
    "                    end.next=l1\n",
    "            else:\n",
    "                n=0\n",
    "            \n",
    "            if(l2):\n",
    "                m=l2.val\n",
    "                l2=l2.next\n",
    "                if l2 and not l1:  #l2比l1长\n",
    "                    end.next=l2\n",
    "            else:\n",
    "                m=0\n",
    "            sum=m+n+carry\n",
    "            carry=int(sum/10)\n",
    "            end.val=sum%10\n",
    "            end=end.next\n",
    "            pre=pre.next\n",
    "        if(carry):\n",
    "            temp=ListNode()\n",
    "            temp.val=carry\n",
    "            pre.next=temp\n",
    "        return head\n",
    "           \n",
    "            \n"
   ]
  },
  {
   "cell_type": "code",
   "execution_count": 26,
   "metadata": {},
   "outputs": [],
   "source": [
    "dataA=ListNode(9)\n",
    "dataA.next=ListNode(9)\n",
    "dataA.next.next=ListNode(9)\n",
    "dataA.next.next.next=ListNode(9)\n",
    "dataA.next.next.next.next=ListNode(9)\n",
    "dataA.next.next.next.next.next=ListNode(9)\n",
    "dataA.next.next.next.next.next.next=ListNode(9)\n",
    "dataA.next.next.next.next.next.next.next=ListNode(9)\n",
    "\n",
    "dataB=ListNode(9)\n",
    "dataB.next=ListNode(9)\n",
    "dataB.next.next=ListNode(9)\n",
    "dataB.next.next.next=ListNode(9)"
   ]
  },
  {
   "cell_type": "code",
   "execution_count": 27,
   "metadata": {},
   "outputs": [
    {
     "name": "stdout",
     "output_type": "stream",
     "text": [
      "8\n",
      "9\n",
      "9\n",
      "9\n",
      "0\n",
      "0\n",
      "0\n",
      "0\n",
      "1\n"
     ]
    }
   ],
   "source": [
    "sol=Solution()\n",
    "result=sol.addTwoNumbers(dataA,dataB)\n",
    "x=result\n",
    "while(x):\n",
    "    print(x.val)\n",
    "    x=x.next\n"
   ]
  }
 ],
 "metadata": {
  "kernelspec": {
   "display_name": "base",
   "language": "python",
   "name": "python3"
  },
  "language_info": {
   "codemirror_mode": {
    "name": "ipython",
    "version": 3
   },
   "file_extension": ".py",
   "mimetype": "text/x-python",
   "name": "python",
   "nbconvert_exporter": "python",
   "pygments_lexer": "ipython3",
   "version": "3.9.12"
  }
 },
 "nbformat": 4,
 "nbformat_minor": 2
}
