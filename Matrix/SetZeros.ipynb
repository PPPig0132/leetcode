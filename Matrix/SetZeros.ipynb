{
 "cells": [
  {
   "cell_type": "code",
   "execution_count": 7,
   "metadata": {},
   "outputs": [],
   "source": [
    "from typing import List\n",
    "class Solution:\n",
    "    def setZeroes(self, matrix: List[List[int]]) -> None:\n",
    "        \"\"\"\n",
    "        Do not return anything, modify matrix in-place instead.\n",
    "        \"\"\"\n",
    "        col=set()\n",
    "        for i in range(len(matrix)):\n",
    "            j=0\n",
    "            while( j<len(matrix[i]) and matrix[i][j]):\n",
    "                j+=1\n",
    "            if( j<len(matrix[i])):\n",
    "                col.add(j)\n",
    "                while(j<len(matrix[i])):\n",
    "                    if matrix[i][j]!=0:\n",
    "                        matrix[i][j]=0\n",
    "                        j+=1\n",
    "                    else:\n",
    "                        col.add(j)\n",
    "                        j+=1\n",
    "        for i in range(len(matrix)-1,-1,-1):\n",
    "            j=len(matrix[i])-1\n",
    "            head=matrix[i][j]\n",
    "            if(head==0):\n",
    "                while(j>=0):\n",
    "                    matrix[i][j]=0\n",
    "                    j-=1\n",
    "            else:\n",
    "                while(j>=0):\n",
    "                    if j in col:\n",
    "                        matrix[i][j]=0\n",
    "                    j-=1\n",
    "\n",
    "        \n",
    "        "
   ]
  },
  {
   "cell_type": "code",
   "execution_count": 8,
   "metadata": {},
   "outputs": [
    {
     "name": "stdout",
     "output_type": "stream",
     "text": [
      "4\n",
      "[[0, 0, 0, 0], [0, 4, 5, 0], [0, 3, 1, 0]]\n"
     ]
    }
   ],
   "source": [
    "data=[[0,1,2,0],[3,4,5,2],[1,3,1,5]]\n",
    "print(len(data[0]))\n",
    "sol=Solution()\n",
    "sol.setZeroes(data)\n",
    "print(data)"
   ]
  }
 ],
 "metadata": {
  "kernelspec": {
   "display_name": "base",
   "language": "python",
   "name": "python3"
  },
  "language_info": {
   "codemirror_mode": {
    "name": "ipython",
    "version": 3
   },
   "file_extension": ".py",
   "mimetype": "text/x-python",
   "name": "python",
   "nbconvert_exporter": "python",
   "pygments_lexer": "ipython3",
   "version": "3.11.5"
  }
 },
 "nbformat": 4,
 "nbformat_minor": 2
}
