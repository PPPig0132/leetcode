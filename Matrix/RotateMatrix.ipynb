{
 "cells": [
  {
   "cell_type": "markdown",
   "metadata": {},
   "source": [
    "给定一个 n × n 的二维矩阵 matrix 表示一个图像。请你将图像顺时针旋转 90 度。\n",
    "\n",
    "你必须在 原地 旋转图像，这意味着你需要直接修改输入的二维矩阵。请不要 使用另一个矩阵来旋转图像"
   ]
  },
  {
   "cell_type": "code",
   "execution_count": 10,
   "metadata": {},
   "outputs": [],
   "source": [
    "from typing import List\n",
    "class Solution:\n",
    "    def rotate(self, matrix: List[List[int]]) -> None:\n",
    "        \"\"\"\n",
    "        Do not return anything, modify matrix in-place instead.\n",
    "        \"\"\"\n",
    "        self.transpose(matrix)\n",
    "        for i in range(len(matrix)):\n",
    "            l,r=0,len(matrix[0])-1\n",
    "            while(r>l):\n",
    "                temp=matrix[i][l]\n",
    "                matrix[i][l]=matrix[i][r]\n",
    "                matrix[i][r]=temp\n",
    "                l+=1\n",
    "                r-=1\n",
    "\n",
    "\n",
    "    def transpose(self,matrix:List[List[int]]) ->None:\n",
    "        n=len(matrix)\n",
    "        for i in range(n):\n",
    "            for j in range(i+1,n,1):\n",
    "                temp=matrix[i][j]\n",
    "                matrix[i][j]=matrix[j][i]\n",
    "                matrix[j][i]=temp"
   ]
  },
  {
   "cell_type": "code",
   "execution_count": null,
   "metadata": {},
   "outputs": [
    {
     "name": "stdout",
     "output_type": "stream",
     "text": [
      "[3, 2, 1]\n",
      "[6, 5, 4]\n",
      "[9, 8, 7]\n"
     ]
    }
   ],
   "source": [
    "data= [[1,2,3],[4,5,6],[7,8,9]]\n",
    "sol=Solution()\n",
    "# sol.transpose(data)\n",
    "sol.rotate(data)\n",
    "for item in data:\n",
    "    print(item)"
   ]
  }
 ],
 "metadata": {
  "kernelspec": {
   "display_name": "base",
   "language": "python",
   "name": "python3"
  },
  "language_info": {
   "codemirror_mode": {
    "name": "ipython",
    "version": 3
   },
   "file_extension": ".py",
   "mimetype": "text/x-python",
   "name": "python",
   "nbconvert_exporter": "python",
   "pygments_lexer": "ipython3",
   "version": "3.11.5"
  }
 },
 "nbformat": 4,
 "nbformat_minor": 2
}
