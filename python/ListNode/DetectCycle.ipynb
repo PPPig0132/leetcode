{
 "cells": [
  {
   "cell_type": "markdown",
   "metadata": {},
   "source": [
    "检测是否有环，并找到第一个入环位置\n",
    "快慢指针可以检测是否有环但无法定位到第一个入环位置\n",
    "\n",
    "快慢指针寻找入口：\n",
    "找到相遇点 快指针从头出发，慢指针从相遇节点出发，再次相遇就是环入口"
   ]
  },
  {
   "cell_type": "code",
   "execution_count": 13,
   "metadata": {},
   "outputs": [],
   "source": [
    "from ListNode import ListNode\n",
    "from typing import Optional\n",
    "class Solution:\n",
    "    def detectCycle(self, head: Optional[ListNode]) -> Optional[ListNode]:\n",
    "        if not head:\n",
    "            return None\n",
    "        x=y=head\n",
    "    \n",
    "        while(x and y):\n",
    "            x=x.next\n",
    "            if(y.next):\n",
    "                y=y.next.next\n",
    "            else:\n",
    "                return None\n",
    "            if(x==y):\n",
    "                break\n",
    "           \n",
    "        print(x.val)\n",
    "        if(x):#有环\n",
    "            y=head\n",
    "            while(x!=y):\n",
    "                x=x.next\n",
    "                y=y.next\n",
    "            return x\n",
    "\n",
    "        return None"
   ]
  },
  {
   "cell_type": "code",
   "execution_count": 15,
   "metadata": {},
   "outputs": [],
   "source": [
    "dataA=ListNode(3)\n",
    "dataB=ListNode(2)\n",
    "dataC=ListNode(0)\n",
    "dataD=ListNode(-4)\n",
    "dataA.next=dataB\n",
    "dataB.next=dataC\n",
    "dataC.next=dataD\n",
    "dataD.next=dataB"
   ]
  },
  {
   "cell_type": "code",
   "execution_count": null,
   "metadata": {},
   "outputs": [
    {
     "name": "stdout",
     "output_type": "stream",
     "text": [
      "-4\n",
      "2\n"
     ]
    },
    {
     "ename": "",
     "evalue": "",
     "output_type": "error",
     "traceback": [
      "\u001b[1;31m在当前单元格或上一个单元格中执行代码时 Kernel 崩溃。\n",
      "\u001b[1;31m请查看单元格中的代码，以确定故障的可能原因。\n",
      "\u001b[1;31m单击<a href='https://aka.ms/vscodeJupyterKernelCrash'>此处</a>了解详细信息。\n",
      "\u001b[1;31m有关更多详细信息，请查看 Jupyter <a href='command:jupyter.viewOutput'>log</a>。"
     ]
    }
   ],
   "source": [
    "sol=Solution()\n",
    "x=sol.detectCycle(dataA)\n",
    "print(x.val)"
   ]
  }
 ],
 "metadata": {
  "kernelspec": {
   "display_name": "base",
   "language": "python",
   "name": "python3"
  },
  "language_info": {
   "codemirror_mode": {
    "name": "ipython",
    "version": 3
   },
   "file_extension": ".py",
   "mimetype": "text/x-python",
   "name": "python",
   "nbconvert_exporter": "python",
   "pygments_lexer": "ipython3",
   "version": "3.11.5"
  }
 },
 "nbformat": 4,
 "nbformat_minor": 2
}
