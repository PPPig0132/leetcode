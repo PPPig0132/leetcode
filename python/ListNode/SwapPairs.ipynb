{
 "cells": [
  {
   "cell_type": "markdown",
   "metadata": {},
   "source": [
    "给你一个链表，两两交换其中相邻的节点，并返回交换后链表的头节点。你必须在不修改节点内部的值的情况下完成本题（即，只能进行节点交换）\n",
    "\n",
    "Special case of ReserveKGroup where K=2"
   ]
  },
  {
   "cell_type": "code",
   "execution_count": 14,
   "metadata": {},
   "outputs": [],
   "source": [
    "from typing import Optional\n",
    "from ListNode import ListNode\n",
    "class Solution:\n",
    "    def swapPairs(self, head: Optional[ListNode]) -> Optional[ListNode]:\n",
    "        if not head or not head.next:\n",
    "            return head\n",
    "        pre=ListNode()\n",
    "        pre.next=head\n",
    "        head=pre\n",
    "        \n",
    "    \n",
    "        while(pre.next and pre.next.next): #后面还有两个\n",
    "            x=pre.next.next.next\n",
    "            y=pre.next\n",
    "            pre.next=y.next\n",
    "            pre.next.next=y\n",
    "            y.next=x\n",
    "            pre=pre.next.next\n",
    "        return head.next"
   ]
  },
  {
   "cell_type": "code",
   "execution_count": 15,
   "metadata": {},
   "outputs": [],
   "source": [
    "data=ListNode(1)\n",
    "data.next=ListNode(2)\n",
    "data.next.next=ListNode(3)\n",
    "data.next.next.next=ListNode(4)"
   ]
  },
  {
   "cell_type": "code",
   "execution_count": 16,
   "metadata": {},
   "outputs": [
    {
     "name": "stdout",
     "output_type": "stream",
     "text": [
      "2\n",
      "1\n",
      "4\n",
      "3\n"
     ]
    }
   ],
   "source": [
    "sol=Solution()\n",
    "x=sol.swapPairs(data)\n",
    "y=x\n",
    "while(y):\n",
    "    print(y.val)\n",
    "    y=y.next"
   ]
  }
 ],
 "metadata": {
  "kernelspec": {
   "display_name": "base",
   "language": "python",
   "name": "python3"
  },
  "language_info": {
   "codemirror_mode": {
    "name": "ipython",
    "version": 3
   },
   "file_extension": ".py",
   "mimetype": "text/x-python",
   "name": "python",
   "nbconvert_exporter": "python",
   "pygments_lexer": "ipython3",
   "version": "3.11.5"
  }
 },
 "nbformat": 4,
 "nbformat_minor": 2
}
