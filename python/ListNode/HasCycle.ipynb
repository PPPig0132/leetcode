{
 "cells": [
  {
   "cell_type": "markdown",
   "metadata": {},
   "source": [
    "检测是否有环 \n",
    "快慢指针可以检测是否有环但无法定位到第一个入环位置"
   ]
  },
  {
   "cell_type": "code",
   "execution_count": null,
   "metadata": {},
   "outputs": [],
   "source": [
    "from ListNode import ListNode\n",
    "from typing import Optional\n",
    "class Solution:\n",
    "    def hasCycle(self, head: Optional[ListNode]) -> bool:\n",
    "        if not head:\n",
    "            return False\n",
    "        x=y=head\n",
    "        x=x.next\n",
    "        if(y.next):\n",
    "            y=y.next.next\n",
    "        else:\n",
    "            return False\n",
    "        while(x and y):\n",
    "            if(x==y):\n",
    "                return True\n",
    "            x=x.next\n",
    "            if(y.next):\n",
    "                y=y.next.next\n",
    "            else:\n",
    "                return False\n",
    "        return False"
   ]
  },
  {
   "cell_type": "code",
   "execution_count": 17,
   "metadata": {},
   "outputs": [],
   "source": [
    "dataA=ListNode(3)\n",
    "dataB=ListNode(2)\n",
    "dataC=ListNode(0)\n",
    "dataD=ListNode(-4)\n",
    "dataA.next=dataB\n",
    "dataB.next=dataC\n",
    "dataC.next=dataD\n",
    "dataD.next=dataB"
   ]
  },
  {
   "cell_type": "code",
   "execution_count": 18,
   "metadata": {},
   "outputs": [
    {
     "name": "stdout",
     "output_type": "stream",
     "text": [
      "True\n"
     ]
    }
   ],
   "source": [
    "sol=Solution()\n",
    "x=sol.hasCycle(dataA)\n",
    "print(x)"
   ]
  }
 ],
 "metadata": {
  "kernelspec": {
   "display_name": "base",
   "language": "python",
   "name": "python3"
  },
  "language_info": {
   "codemirror_mode": {
    "name": "ipython",
    "version": 3
   },
   "file_extension": ".py",
   "mimetype": "text/x-python",
   "name": "python",
   "nbconvert_exporter": "python",
   "pygments_lexer": "ipython3",
   "version": "3.11.5"
  }
 },
 "nbformat": 4,
 "nbformat_minor": 2
}
