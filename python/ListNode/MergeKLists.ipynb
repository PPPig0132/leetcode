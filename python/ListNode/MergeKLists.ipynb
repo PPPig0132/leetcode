{
 "cells": [
  {
   "cell_type": "markdown",
   "metadata": {},
   "source": [
    "给你一个链表数组，每个链表都已经按升序排列。\n",
    "\n",
    "请你将所有链表合并到一个升序链表中，返回合并后的链表。\n",
    "\n",
    "todo:\n",
    "k个一起合并"
   ]
  },
  {
   "cell_type": "code",
   "execution_count": null,
   "metadata": {},
   "outputs": [],
   "source": [
    "from typing import Optional\n",
    "from ListNode import ListNode\n",
    "from typing import List\n",
    "class Solution:\n",
    "    def mergeKLists(self, lists: List[Optional[ListNode]]) -> Optional[ListNode]:\n",
    "        if not lists[0] or len(lists)==0:\n",
    "            return None\n",
    "        head=ListNode()\n",
    "        head.next=lists[0]\n",
    "        for i in range(1,len(lists),1):\n",
    "            end=head\n",
    "            x=head.next\n",
    "            y=lists[i]\n",
    "            while(x and y):\n",
    "                if(x.val>=y.val):\n",
    "                    end.next=y\n",
    "                    y=y.next\n",
    "                    end=end.next\n",
    "                else:\n",
    "                    end.next=x\n",
    "                    x=x.next\n",
    "                    end=end.next\n",
    "            if(x):\n",
    "                end.next=x\n",
    "            if(y):\n",
    "                end.next=y\n",
    "        return head.next\n"
   ]
  },
  {
   "cell_type": "code",
   "execution_count": 5,
   "metadata": {},
   "outputs": [
    {
     "name": "stdout",
     "output_type": "stream",
     "text": [
      "1\n",
      "1\n",
      "2\n",
      "3\n",
      "4\n",
      "4\n",
      "5\n",
      "6\n"
     ]
    }
   ],
   "source": [
    "from ListNode import generateList\n",
    "x=[]\n",
    "l=generateList([1,4,5])\n",
    "r=generateList([1,3,4])\n",
    "n=generateList([2,6])\n",
    "x.append(l)\n",
    "x.append(r)\n",
    "x.append(n)\n",
    "\n",
    "sol=Solution()\n",
    "ans=sol.mergeKLists(x)\n",
    "while(ans):\n",
    "    print(ans.val)\n",
    "    ans=ans.next\n",
    "\n",
    "\n"
   ]
  }
 ],
 "metadata": {
  "kernelspec": {
   "display_name": "base",
   "language": "python",
   "name": "python3"
  },
  "language_info": {
   "codemirror_mode": {
    "name": "ipython",
    "version": 3
   },
   "file_extension": ".py",
   "mimetype": "text/x-python",
   "name": "python",
   "nbconvert_exporter": "python",
   "pygments_lexer": "ipython3",
   "version": "3.11.5"
  }
 },
 "nbformat": 4,
 "nbformat_minor": 2
}
