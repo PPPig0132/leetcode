{
 "cells": [
  {
   "cell_type": "markdown",
   "metadata": {},
   "source": [
    "给你链表的头结点 head ，请将其按 升序 排列并返回 排序后的链表 。\n",
    "\n",
    "idea:\n",
    "1.插入排序(超时)\n",
    "\n",
    "2.合并有序链表\n",
    "扫描两个有序链表出来合并，每次再从无序链表中扫描出有序链表与原链表合并 直至无序链表为空\n",
    "\n",
    "正解：对于链表最合适的排序算法是归并排序，可以用快慢指针找到链表的中点"
   ]
  },
  {
   "cell_type": "code",
   "execution_count": 1,
   "metadata": {},
   "outputs": [],
   "source": [
    "def generateList(l):\n",
    "    if len(l)==0:\n",
    "        return None\n",
    "    head=ListNode(l[0])\n",
    "    p=head\n",
    "    for i in l[1:]:\n",
    "        p.next=ListNode(i)\n",
    "        p=p.next\n",
    "    return head"
   ]
  },
  {
   "cell_type": "code",
   "execution_count": 2,
   "metadata": {},
   "outputs": [],
   "source": [
    "# from typing import Optional\n",
    "# from ListNode import ListNode\n",
    "# class Solution:\n",
    "#     def sortList(self, head: Optional[ListNode]) -> Optional[ListNode]:\n",
    "#         if not head or not head.next:\n",
    "#             return head\n",
    "        \n",
    "#         x=ListNode()\n",
    "#         y=head\n",
    "#         head=head.next\n",
    "#         y.next=x.next\n",
    "#         x.next=y\n",
    "\n",
    "#         end,max,min=y,y.val,y.val\n",
    "\n",
    "#         while(head):\n",
    "#             if(head.val<=min): #插入到头部\n",
    "#                 temp=head\n",
    "#                 head=head.next\n",
    "#                 temp.next=x.next\n",
    "#                 x.next=temp\n",
    "#                 min=x.next.val\n",
    "#                 continue\n",
    "\n",
    "#             if(head.val>=max):\n",
    "#                 temp=head\n",
    "#                 head=head.next\n",
    "#                 temp.next=end.next\n",
    "#                 end.next=temp\n",
    "#                 end=end.next\n",
    "#                 max=end.val\n",
    "#                 continue\n",
    "                \n",
    "#             y=x.next #寻找插入位置\n",
    "#             while(y):\n",
    "#                 if(y.next and head.val>=y.next.val):\n",
    "#                     y=y.next\n",
    "#                 else:\n",
    "#                     break\n",
    "#             temp=head\n",
    "#             head=head.next\n",
    "#             temp.next=y.next\n",
    "#             y.next=temp\n",
    "#         return x.next"
   ]
  },
  {
   "cell_type": "code",
   "execution_count": 9,
   "metadata": {},
   "outputs": [],
   "source": [
    "from typing import Optional\n",
    "from ListNode import ListNode\n",
    "class Solution:\n",
    "    def sortList(self, head: ListNode) -> ListNode:\n",
    "        def sortFunc(head: ListNode, tail: ListNode) -> ListNode:\n",
    "            if not head:\n",
    "                return head\n",
    "            if head.next == tail:\n",
    "                head.next = None\n",
    "                return head\n",
    "            slow = fast = head\n",
    "            while fast != tail:\n",
    "                slow = slow.next\n",
    "                fast = fast.next\n",
    "                if fast != tail:\n",
    "                    fast = fast.next\n",
    "            mid = slow\n",
    "            return merge(sortFunc(head, mid), sortFunc(mid, tail))\n",
    "            \n",
    "        def merge(head1: ListNode, head2: ListNode) -> ListNode:\n",
    "            dummyHead = ListNode(0)\n",
    "            temp, temp1, temp2 = dummyHead, head1, head2\n",
    "            while temp1 and temp2:\n",
    "                if temp1.val <= temp2.val:\n",
    "                    temp.next = temp1\n",
    "                    temp1 = temp1.next\n",
    "                else:\n",
    "                    temp.next = temp2\n",
    "                    temp2 = temp2.next\n",
    "                temp = temp.next\n",
    "            if temp1:\n",
    "                temp.next = temp1\n",
    "            elif temp2:\n",
    "                temp.next = temp2\n",
    "            return dummyHead.next\n",
    "        \n",
    "        return sortFunc(head, None)"
   ]
  },
  {
   "cell_type": "code",
   "execution_count": 10,
   "metadata": {},
   "outputs": [],
   "source": [
    "l=[4,2,1,3]\n",
    "head=generateList(l)"
   ]
  },
  {
   "cell_type": "code",
   "execution_count": 11,
   "metadata": {},
   "outputs": [
    {
     "name": "stdout",
     "output_type": "stream",
     "text": [
      "1\n",
      "2\n",
      "3\n",
      "4\n"
     ]
    }
   ],
   "source": [
    "sol=Solution()\n",
    "dataB=sol.sortList(head)\n",
    "while(dataB):\n",
    "    print(dataB.val)\n",
    "    dataB=dataB.next"
   ]
  }
 ],
 "metadata": {
  "kernelspec": {
   "display_name": "base",
   "language": "python",
   "name": "python3"
  },
  "language_info": {
   "codemirror_mode": {
    "name": "ipython",
    "version": 3
   },
   "file_extension": ".py",
   "mimetype": "text/x-python",
   "name": "python",
   "nbconvert_exporter": "python",
   "pygments_lexer": "ipython3",
   "version": "3.11.5"
  }
 },
 "nbformat": 4,
 "nbformat_minor": 2
}
