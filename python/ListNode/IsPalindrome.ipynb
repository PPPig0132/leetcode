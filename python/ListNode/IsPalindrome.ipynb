{
 "cells": [
  {
   "cell_type": "markdown",
   "metadata": {},
   "source": [
    "回文链表"
   ]
  },
  {
   "cell_type": "code",
   "execution_count": null,
   "metadata": {},
   "outputs": [],
   "source": [
    "from typing import Optional\n",
    "from ListNode import ListNode\n",
    "# class Solution:\n",
    "#     def isPalindrome(self, head: Optional[ListNode]) -> bool:\n",
    "#         x,n=head,0\n",
    "#         while(x):\n",
    "#             x=x.next\n",
    "#             n+=1\n",
    "#         mid=int((n+1)/2)\n",
    "#         print(n)\n",
    "#         print(mid)\n",
    "#         y=head\n",
    "#         while(mid>0):\n",
    "#             y=y.next\n",
    "#             mid-=1\n",
    "#         print(y.val,y.next)\n",
    "#         while( y and head.val==y.val):\n",
    "#             head=head.next\n",
    "#             y=y.next\n",
    "#         if(y):\n",
    "#             return False\n",
    "#         return True\n",
    "class Solution:\n",
    "    def isPalindrome(self, head: Optional[ListNode]) -> bool:\n",
    "        if not head or not head.next:\n",
    "            return True\n",
    "        x,n=head,0\n",
    "        while(x):\n",
    "            x=x.next\n",
    "            n+=1\n",
    "        mid=int((n+1)/2)\n",
    "        y=head\n",
    "        while(mid>1): # mid前一个 相当于头节点，后续节点逆序\n",
    "            y=y.next\n",
    "            mid-=1\n",
    "\n",
    "        pre=y.next\n",
    "        y.next=None\n",
    "        while(pre):\n",
    "            temp=pre\n",
    "            pre=pre.next\n",
    "            temp.next=y.next\n",
    "            y.next=temp\n",
    "\n",
    "        y=y.next#除去头节点\n",
    "        while(y and head.val==y.val ):\n",
    "            head=head.next\n",
    "            y=y.next\n",
    "        if(y):\n",
    "            return False\n",
    "        return True\n",
    "\n"
   ]
  },
  {
   "cell_type": "code",
   "execution_count": 20,
   "metadata": {},
   "outputs": [],
   "source": [
    "dataA=ListNode(1)\n",
    "dataA.next=ListNode(2)\n",
    "dataA.next.next=ListNode(2)\n",
    "dataA.next.next.next=ListNode(1)\n",
    "# dataA.next.next.next.next=None"
   ]
  },
  {
   "cell_type": "code",
   "execution_count": 11,
   "metadata": {},
   "outputs": [
    {
     "name": "stdout",
     "output_type": "stream",
     "text": [
      "1\n",
      "2\n",
      "1\n"
     ]
    }
   ],
   "source": [
    "x=dataA\n",
    "while(x):\n",
    "    print(x.val)\n",
    "    x=x.next"
   ]
  },
  {
   "cell_type": "code",
   "execution_count": 21,
   "metadata": {},
   "outputs": [
    {
     "name": "stdout",
     "output_type": "stream",
     "text": [
      "True\n"
     ]
    }
   ],
   "source": [
    "sol=Solution()\n",
    "print(sol.isPalindrome(dataA))"
   ]
  }
 ],
 "metadata": {
  "kernelspec": {
   "display_name": "base",
   "language": "python",
   "name": "python3"
  },
  "language_info": {
   "codemirror_mode": {
    "name": "ipython",
    "version": 3
   },
   "file_extension": ".py",
   "mimetype": "text/x-python",
   "name": "python",
   "nbconvert_exporter": "python",
   "pygments_lexer": "ipython3",
   "version": "3.11.5"
  }
 },
 "nbformat": 4,
 "nbformat_minor": 2
}
