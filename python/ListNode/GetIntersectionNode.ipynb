{
 "cells": [
  {
   "cell_type": "code",
   "execution_count": 42,
   "metadata": {},
   "outputs": [],
   "source": [
    "from typing import Optional\n",
    "from ListNode import ListNode\n",
    "\n",
    "\n",
    "\n",
    "\n",
    "# class Solution:\n",
    "#     def getIntersectionNode(self, headA: ListNode, headB: ListNode) -> ListNode:\n",
    "#         A, B = headA, headB\n",
    "#         while A != B:\n",
    "#             A = A.next if A else headB\n",
    "#             B = B.next if B else headA\n",
    "#         return A\n",
    "class Solution:\n",
    "    def getIntersectionNode(self, headA: ListNode, headB: ListNode) -> Optional[ListNode]:\n",
    "        x1,x2=headA,headB\n",
    "        m,n=0,0\n",
    "        while(x1):\n",
    "            m+=1\n",
    "            x1=x1.next\n",
    "\n",
    "        while(x2):\n",
    "            n+=1\n",
    "            x2=x2.next\n",
    "        print(m,n)\n",
    "        y=headA if (m>n) else headB\n",
    "        y1=headB if (m>n) else headA\n",
    "        x=abs(m-n)\n",
    "\n",
    "        while(x>0):\n",
    "            y=y.next\n",
    "            x-=1\n",
    "\n",
    "        while(y!=y1 ):\n",
    "            y=y.next\n",
    "            y1=y1.next\n",
    "\n",
    "        if y:\n",
    "            return y\n",
    "        else:\n",
    "            return None\n",
    "\n",
    "\n"
   ]
  },
  {
   "cell_type": "code",
   "execution_count": 33,
   "metadata": {},
   "outputs": [],
   "source": [
    "dataA=ListNode(4)\n",
    "dataA.next=ListNode(2)\n",
    "dataA.next.next=ListNode(7)\n",
    "dataA.next.next.next=ListNode(9)\n",
    "dataA.next.next.next.next=ListNode(6)\n",
    "\n",
    "dataB=ListNode(5)\n",
    "dataB.next=ListNode(6)\n",
    "dataB.next.next=ListNode(1)\n",
    "dataB.next.next.next=ListNode(8)\n",
    "dataB.next.next.next.next=ListNode(4)\n",
    "dataB.next.next.next.next.next=ListNode(5)\n",
    "\n"
   ]
  },
  {
   "cell_type": "code",
   "execution_count": 43,
   "metadata": {},
   "outputs": [],
   "source": [
    "dataA=ListNode(4)\n",
    "dataA.next=ListNode(1)\n",
    "dataA.next.next=ListNode(8)\n",
    "dataA.next.next.next=ListNode(4)\n",
    "dataA.next.next.next.next=ListNode(5)\n",
    "\n",
    "dataB=ListNode(5)\n",
    "dataB.next=ListNode(6)\n",
    "dataB.next.next=ListNode(1)\n",
    "dataB.next.next.next=dataA.next.next"
   ]
  },
  {
   "cell_type": "code",
   "execution_count": null,
   "metadata": {},
   "outputs": [
    {
     "name": "stdout",
     "output_type": "stream",
     "text": [
      "4\n",
      "1\n",
      "8\n",
      "4\n",
      "5\n",
      "5\n",
      "6\n",
      "1\n",
      "8\n",
      "4\n",
      "5\n"
     ]
    }
   ],
   "source": [
    "# while(dataA):\n",
    "#     print(dataA.val)\n",
    "#     dataA=dataA.next\n",
    "# while(dataB):\n",
    "#     print(dataB.val)\n",
    "#     dataB=dataB.next"
   ]
  },
  {
   "cell_type": "code",
   "execution_count": null,
   "metadata": {},
   "outputs": [],
   "source": []
  },
  {
   "cell_type": "code",
   "execution_count": 44,
   "metadata": {},
   "outputs": [
    {
     "name": "stdout",
     "output_type": "stream",
     "text": [
      "5 6\n",
      "<ListNode.ListNode object at 0x00000282BA52E150>\n"
     ]
    }
   ],
   "source": [
    "sol=Solution()\n",
    "x=sol.getIntersectionNode(dataA,dataB)\n",
    "print(x)"
   ]
  }
 ],
 "metadata": {
  "kernelspec": {
   "display_name": "base",
   "language": "python",
   "name": "python3"
  },
  "language_info": {
   "codemirror_mode": {
    "name": "ipython",
    "version": 3
   },
   "file_extension": ".py",
   "mimetype": "text/x-python",
   "name": "python",
   "nbconvert_exporter": "python",
   "pygments_lexer": "ipython3",
   "version": "3.11.5"
  }
 },
 "nbformat": 4,
 "nbformat_minor": 2
}
