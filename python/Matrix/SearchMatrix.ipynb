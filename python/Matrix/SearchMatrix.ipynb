{
 "cells": [
  {
   "cell_type": "markdown",
   "metadata": {},
   "source": [
    "编写一个高效的算法来搜索 m x n 矩阵 matrix 中的一个目标值 target 。该矩阵具有以下特性：\n",
    "\n",
    "每行的元素从左到右升序排列。\n",
    "每列的元素从上到下升序排列\n",
    "\n",
    "先向右，右边的比target大或者到达边界再向下找（沿着边缘），***最终目的其实就是从右上角开始*** 找到第一个比target大的元素时，换方向，\n",
    "\n",
    "👇\n",
    "\n",
    "正确idea  从右上角往左下z字形搜索，大于target 则x--  小于target 则y++"
   ]
  },
  {
   "cell_type": "code",
   "execution_count": null,
   "metadata": {},
   "outputs": [],
   "source": [
    "from typing import List\n",
    "class Solution:\n",
    "    def searchMatrix(self, matrix: List[List[int]], target: int) -> bool:\n",
    "        m, n = len(matrix), len(matrix[0])\n",
    "        x, y = 0, n - 1\n",
    "        while x < m and y >= 0:\n",
    "            if matrix[x][y] == target:\n",
    "                return True\n",
    "            if matrix[x][y] > target:\n",
    "                y -= 1\n",
    "            else:\n",
    "                x += 1\n",
    "        return False\n",
    "\n"
   ]
  },
  {
   "cell_type": "code",
   "execution_count": 12,
   "metadata": {},
   "outputs": [
    {
     "name": "stdout",
     "output_type": "stream",
     "text": [
      "False\n"
     ]
    }
   ],
   "source": [
    "data= [[1,4,7,11,15],[2,5,8,12,19],[3,6,9,16,22],[10,13,14,17,24],[18,21,23,26,30]]\n",
    "data=[[1,4],[2,5]]\n",
    "target=2\n",
    "x=Solution().searchMatrix(data,target)\n",
    "print(x)"
   ]
  }
 ],
 "metadata": {
  "kernelspec": {
   "display_name": "base",
   "language": "python",
   "name": "python3"
  },
  "language_info": {
   "codemirror_mode": {
    "name": "ipython",
    "version": 3
   },
   "file_extension": ".py",
   "mimetype": "text/x-python",
   "name": "python",
   "nbconvert_exporter": "python",
   "pygments_lexer": "ipython3",
   "version": "3.11.5"
  }
 },
 "nbformat": 4,
 "nbformat_minor": 2
}
