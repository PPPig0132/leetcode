{
 "cells": [
  {
   "cell_type": "code",
   "execution_count": null,
   "metadata": {},
   "outputs": [],
   "source": [
    "from typing import List\n",
    "class Solution:\n",
    "    def spiralOrder(self, matrix: List[List[int]]) -> List[int]:\n",
    "        h=len(matrix)#height\n",
    "        w=len(matrix[0])#width\n",
    "        l,r,d,u=0,w-1,0,h-1  ## left right up down\n",
    "        print(l,r,d,u)\n",
    "        \n",
    "        ans=[]\n",
    "        while(r>l and u>d ):\n",
    "            for i in range(l,r+1,1):#left 2 right\n",
    "                ans.append(matrix[d][i])\n",
    "            d+=1\n",
    "\n",
    "            for i in range(d,u+1,1):# down 2 up\n",
    "                ans.append(matrix[i][r])\n",
    "            r-=1\n",
    "\n",
    "            for i in range(r,l-1,-1):# right 2 left\n",
    "                ans.append(matrix[u][i])\n",
    "            u-=1\n",
    "\n",
    "            for i in range(u,d-1,-1):# down 2 up\n",
    "                ans.append(matrix[i][l])\n",
    "            l+=1\n",
    "        # while(r>l and u==d):\n",
    "\n",
    "\n",
    "        print(l,r,d,u)\n",
    "        print(\"lenans:\",len(ans))\n",
    "        \n",
    "        if(r>l and u==d):\n",
    "            for i in range(l,r+1,1):\n",
    "                ans.append(matrix[d][i])\n",
    "        if(u>d and r==l):\n",
    "            for i in range(d,u+1,1):\n",
    "                ans.append(matrix[i][r])\n",
    "                \n",
    "        if(l==r and u==d):\n",
    "            ans.append(matrix[u][l])\n",
    "        # if(u>d ):\n",
    "        #     for i in range(d,u+1,1):\n",
    "        #         ans.append(matrix[i][r])\n",
    "            \n",
    "        \n",
    "       \n",
    "        return ans\n",
    "        "
   ]
  },
  {
   "cell_type": "code",
   "execution_count": 61,
   "metadata": {},
   "outputs": [
    {
     "name": "stdout",
     "output_type": "stream",
     "text": [
      "[3]\n",
      "[2]\n",
      "0 0 0 1\n",
      "0 0 0 1\n",
      "lenans: 0\n",
      "2\n",
      "[3, 2]\n"
     ]
    }
   ],
   "source": [
    "data2= [[1,2,3],[4,5,6],[7,8,9]]\n",
    "# data1=[[1,2]]\n",
    "\n",
    "data= [[1,2,3,4],[5,6,7,8],[9,10,11,12]]\n",
    "# data=[[1,2,3],[4,5,6],[7,8,9],[10,11,12]]\n",
    "# data=[[1,2,3,4],[5,6,7,8],[9,10,11,12],[13,14,15,16],[17,18,19,20],[21,22,23,24]]\n",
    "# data=[[1,2,3,4,5,6],[7,8,9,10,11,12],[13,14,15,16,17,18],[19,20,21,22,23,24]]\n",
    "# data=[[1,2,3,4,5],[6,7,8,9,10],[11,12,13,14,15],[16,17,18,19,20]]\n",
    "# data=[[1,2,3,4,5,6],[7,8,9,10,11,12],[13,14,15,16,17,18],[19,20,21,22,23,24]]\n",
    "# data=[[1,2,3,4,5,6],[7,8,9,10,11,12],[13,14,15,16,17,18]]\n",
    "data=[[3],[2]]\n",
    "for i in data:\n",
    "    print(i)\n",
    "sol=Solution()\n",
    "x=sol.spiralOrder(data)\n",
    "print(len(x))\n",
    "print(x)\n"
   ]
  }
 ],
 "metadata": {
  "kernelspec": {
   "display_name": "base",
   "language": "python",
   "name": "python3"
  },
  "language_info": {
   "codemirror_mode": {
    "name": "ipython",
    "version": 3
   },
   "file_extension": ".py",
   "mimetype": "text/x-python",
   "name": "python",
   "nbconvert_exporter": "python",
   "pygments_lexer": "ipython3",
   "version": "3.11.5"
  }
 },
 "nbformat": 4,
 "nbformat_minor": 2
}
