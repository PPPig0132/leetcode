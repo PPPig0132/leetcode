{
 "cells": [
  {
   "cell_type": "markdown",
   "metadata": {},
   "source": [
    "给定一个整数数组 nums，将数组中的元素向右轮转 k 个位置，其中 k 是非负数。\n",
    "\n",
    " \n",
    "\n",
    "示例 1:\n",
    "\n",
    "输入: nums = [1,2,3,4,5,6,7], k = 3\n",
    "输出: [5,6,7,1,2,3,4]\n",
    "解释:\n",
    "向右轮转 1 步: [7,1,2,3,4,5,6]\n",
    "向右轮转 2 步: [6,7,1,2,3,4,5]\n",
    "向右轮转 3 步: [5,6,7,1,2,3,4]\n",
    "示例 2:\n",
    "\n",
    "输入：nums = [-1,-100,3,99], k = 2\n",
    "输出：[3,99,-1,-100]\n",
    "解释: \n",
    "向右轮转 1 步: [99,-1,-100,3]\n",
    "向右轮转 2 步: [3,99,-1,-100]"
   ]
  },
  {
   "cell_type": "code",
   "execution_count": null,
   "metadata": {},
   "outputs": [],
   "source": [
    "from typing import List\n",
    "class Solution:\n",
    "    def rotate(self, nums: List[int], k: int) -> None:\n",
    "        \"\"\"\n",
    "        Do not return anything, modify nums in-place instead.\n",
    "        \"\"\"\n",
    "        n=len(nums)\n",
    "        k=k%n\n",
    "        self.swap(nums,0,n-k-1)\n",
    "        self.swap(nums,n-k,n-1)\n",
    "        self.swap(nums,0,n-1)\n",
    "\n",
    "\n",
    "    def swap(self, nums: List[int], left: int, right: int) -> None:\n",
    "        while left < right:\n",
    "            temp = nums[left]\n",
    "            nums[left] = nums[right]\n",
    "            nums[right] = temp\n",
    "            left += 1\n",
    "            right -= 1"
   ]
  },
  {
   "cell_type": "code",
   "execution_count": null,
   "metadata": {},
   "outputs": [
    {
     "name": "stdout",
     "output_type": "stream",
     "text": [
      "[5, 6, 7, 1, 2, 3, 4]\n"
     ]
    },
    {
     "ename": "",
     "evalue": "",
     "output_type": "error",
     "traceback": [
      "\u001b[1;31m在当前单元格或上一个单元格中执行代码时 Kernel 崩溃。\n",
      "\u001b[1;31m请查看单元格中的代码，以确定故障的可能原因。\n",
      "\u001b[1;31m单击<a href='https://aka.ms/vscodeJupyterKernelCrash'>此处</a>了解详细信息。\n",
      "\u001b[1;31m有关更多详细信息，请查看 Jupyter <a href='command:jupyter.viewOutput'>log</a>。"
     ]
    }
   ],
   "source": [
    "data=[1,2,3,4,5,6,7]\n",
    "k=3\n",
    "sol=Solution()\n",
    "sol.rotate(data,k)\n",
    "print(data)"
   ]
  }
 ],
 "metadata": {
  "kernelspec": {
   "display_name": "base",
   "language": "python",
   "name": "python3"
  },
  "language_info": {
   "codemirror_mode": {
    "name": "ipython",
    "version": 3
   },
   "file_extension": ".py",
   "mimetype": "text/x-python",
   "name": "python",
   "nbconvert_exporter": "python",
   "pygments_lexer": "ipython3",
   "version": "3.11.5"
  }
 },
 "nbformat": 4,
 "nbformat_minor": 2
}
