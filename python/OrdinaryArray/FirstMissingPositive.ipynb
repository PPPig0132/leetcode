{
 "cells": [
  {
   "cell_type": "markdown",
   "metadata": {},
   "source": [
    "给你一个未排序的整数数组 nums ，请你找出其中没有出现的最小的正整数。\n",
    "\n",
    "请你实现时间复杂度为 O(n) 并且只使用常数级别额外空间的解决方案。"
   ]
  },
  {
   "cell_type": "code",
   "execution_count": 3,
   "metadata": {},
   "outputs": [],
   "source": [
    "from typing import List\n",
    "class Solution:\n",
    "    def firstMissingPositive(self, nums: List[int]) -> int:\n",
    "        index=0\n",
    "        while(index<len(nums)):\n",
    "            if(nums[index]>0 and nums[index]!=index+1 and nums[index]<=len(nums) and nums[nums[index]-1]!=nums[index]): \n",
    "                temp=nums[index]\n",
    "                nums[index]=nums[nums[index]-1]\n",
    "                nums[temp-1]=temp\n",
    "            else:\n",
    "                index+=1\n",
    "\n",
    "        for i in range(len(nums)):\n",
    "            if(nums[i]!=i+1):\n",
    "                return i+1\n",
    "        return len(nums)+1\n"
   ]
  },
  {
   "cell_type": "code",
   "execution_count": null,
   "metadata": {},
   "outputs": [
    {
     "name": "stdout",
     "output_type": "stream",
     "text": [
      "2\n"
     ]
    }
   ],
   "source": [
    "data=[3,4,-1,1]\n",
    "data=[1,2,0]\n",
    "data=[1,1,1]\n",
    "sol=Solution()\n",
    "x=sol.firstMissingPositive(data)\n",
    "print(x)"
   ]
  }
 ],
 "metadata": {
  "kernelspec": {
   "display_name": "base",
   "language": "python",
   "name": "python3"
  },
  "language_info": {
   "codemirror_mode": {
    "name": "ipython",
    "version": 3
   },
   "file_extension": ".py",
   "mimetype": "text/x-python",
   "name": "python",
   "nbconvert_exporter": "python",
   "pygments_lexer": "ipython3",
   "version": "3.11.5"
  }
 },
 "nbformat": 4,
 "nbformat_minor": 2
}
