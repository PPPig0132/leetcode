{
 "cells": [
  {
   "cell_type": "markdown",
   "metadata": {},
   "source": [
    "给定一个二叉树的根节点 root ，和一个整数 targetSum ，求该二叉树里节点值之和等于 targetSum 的 路径 的数目。\n",
    "\n",
    "路径 不需要从根节点开始，也不需要在叶子节点结束，但是路径方向必须是向下的（只能从父节点到子节点）。"
   ]
  },
  {
   "cell_type": "code",
   "execution_count": 17,
   "metadata": {},
   "outputs": [],
   "source": [
    "from typing import Optional,List\n",
    "from TreeNode import TreeNode"
   ]
  },
  {
   "cell_type": "code",
   "execution_count": 18,
   "metadata": {},
   "outputs": [],
   "source": [
    "\n",
    "\n",
    "class Solution:\n",
    "    def pathSum(self, root: TreeNode, targetSum: int) -> int:\n",
    "        def dfs(node, current_sum):\n",
    "            if not node:\n",
    "                return 0\n",
    "            \n",
    "            # 当前路径和加上当前节点的值\n",
    "            current_sum += node.val\n",
    "            \n",
    "            # 检查当前路径和是否等于 targetSum\n",
    "            count = 1 if current_sum == targetSum else 0\n",
    "            \n",
    "            # 递归计算左子树和右子树的路径数量\n",
    "            count += dfs(node.left, current_sum)\n",
    "            count += dfs(node.right, current_sum)\n",
    "            \n",
    "            return count\n",
    "        \n",
    "        def traverse(node):\n",
    "            if not node:\n",
    "                return 0\n",
    "            \n",
    "            # 从当前节点开始计算路径数量\n",
    "            count = dfs(node, 0)\n",
    "            \n",
    "            # 递归计算左子树和右子树的路径数量\n",
    "            count += traverse(node.left)\n",
    "            count += traverse(node.right)\n",
    "            \n",
    "            return count\n",
    "        \n",
    "        return traverse(root)"
   ]
  },
  {
   "cell_type": "code",
   "execution_count": 19,
   "metadata": {},
   "outputs": [],
   "source": [
    "Node=TreeNode(10)\n",
    "Node.left=TreeNode(5)\n",
    "Node.right=TreeNode(-3)\n",
    "Node.left.left=TreeNode(3)\n",
    "Node.left.right=TreeNode(2)\n",
    "Node.right.right=TreeNode(11)\n",
    "Node.left.left.left=TreeNode(3)\n",
    "Node.left.left.right=TreeNode(-2)\n",
    "Node.left.right.right=TreeNode(1)\n"
   ]
  },
  {
   "cell_type": "code",
   "execution_count": 20,
   "metadata": {},
   "outputs": [
    {
     "name": "stdout",
     "output_type": "stream",
     "text": [
      "3\n"
     ]
    }
   ],
   "source": [
    "sol=Solution()\n",
    "x=sol.pathSum(Node,8)\n",
    "print(x)"
   ]
  }
 ],
 "metadata": {
  "kernelspec": {
   "display_name": "base",
   "language": "python",
   "name": "python3"
  },
  "language_info": {
   "codemirror_mode": {
    "name": "ipython",
    "version": 3
   },
   "file_extension": ".py",
   "mimetype": "text/x-python",
   "name": "python",
   "nbconvert_exporter": "python",
   "pygments_lexer": "ipython3",
   "version": "3.11.5"
  }
 },
 "nbformat": 4,
 "nbformat_minor": 2
}
