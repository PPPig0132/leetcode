{
 "cells": [
  {
   "cell_type": "markdown",
   "metadata": {},
   "source": [
    "给你一个二叉树的根节点 root ，判断其是否是一个有效的二叉搜索树。"
   ]
  },
  {
   "cell_type": "code",
   "execution_count": 19,
   "metadata": {},
   "outputs": [],
   "source": [
    "from typing import Optional,List\n",
    "from TreeNode import TreeNode\n"
   ]
  },
  {
   "cell_type": "code",
   "execution_count": null,
   "metadata": {},
   "outputs": [],
   "source": [
    "class Solution:\n",
    "    def isValidBST(self, root: Optional[TreeNode]) -> bool:\n",
    "        arr=self.inorderTraversal(root)\n",
    "        for i in range(1,len(arr)):\n",
    "            if(arr[i]<=arr[i-1]):\n",
    "                return False\n",
    "        return True\n",
    "    \n",
    "    def inorderTraversal(self, root: Optional[TreeNode]) -> List[int]:\n",
    "        if not root:    \n",
    "            return []\n",
    "        ans=[]\n",
    "        ans1=[]\n",
    "        ans2=[]\n",
    "        if(root.left !=None):\n",
    "            ans1=self.inorderTraversal(root.left) # type: ignore\n",
    "        for i in ans1:\n",
    "            ans.append(i)\n",
    "        ans.append(root.val)\n",
    "        # print(root.val)\n",
    "\n",
    "        if(root.right!=None):\n",
    "            ans2=self.inorderTraversal(root.right) # type: ignore\n",
    "        for i in ans2:\n",
    "            ans.append(i)\n",
    "        return ans\n",
    "        "
   ]
  },
  {
   "cell_type": "code",
   "execution_count": 22,
   "metadata": {},
   "outputs": [],
   "source": [
    "NodeA=TreeNode(2)\n",
    "NodeB=TreeNode(1)\n",
    "NodeC=TreeNode(3)\n",
    "NodeA.left=NodeB\n",
    "NodeA.right=NodeC"
   ]
  },
  {
   "cell_type": "code",
   "execution_count": null,
   "metadata": {},
   "outputs": [],
   "source": [
    "NodeD=TreeNode(5)\n",
    "NodeD.left=TreeNode(4)\n",
    "NodeD.right=TreeNode(6)\n",
    "NodeD.right.left=TreeNode(3)\n",
    "NodeD.right.right=TreeNode(7)"
   ]
  },
  {
   "cell_type": "code",
   "execution_count": 24,
   "metadata": {},
   "outputs": [
    {
     "name": "stdout",
     "output_type": "stream",
     "text": [
      "None\n"
     ]
    }
   ],
   "source": [
    "sol=Solution()\n",
    "x=sol.isValidBST(NodeA)\n",
    "print(x)"
   ]
  }
 ],
 "metadata": {
  "kernelspec": {
   "display_name": "base",
   "language": "python",
   "name": "python3"
  },
  "language_info": {
   "codemirror_mode": {
    "name": "ipython",
    "version": 3
   },
   "file_extension": ".py",
   "mimetype": "text/x-python",
   "name": "python",
   "nbconvert_exporter": "python",
   "pygments_lexer": "ipython3",
   "version": "3.11.5"
  }
 },
 "nbformat": 4,
 "nbformat_minor": 2
}
