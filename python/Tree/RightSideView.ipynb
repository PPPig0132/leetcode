{
 "cells": [
  {
   "cell_type": "markdown",
   "metadata": {},
   "source": [
    "给定一个二叉树的 根节点 root，想象自己站在它的右侧，按照从顶部到底部的顺序，返回从右侧所能看到的节点值。\n",
    "idea:层次遍历每层的最后一个元素"
   ]
  },
  {
   "cell_type": "code",
   "execution_count": null,
   "metadata": {
    "vscode": {
     "languageId": "plaintext"
    }
   },
   "outputs": [],
   "source": [
    "from typing import Optional,List\n",
    "from TreeNode import TreeNode"
   ]
  },
  {
   "cell_type": "code",
   "execution_count": null,
   "metadata": {
    "vscode": {
     "languageId": "plaintext"
    }
   },
   "outputs": [],
   "source": [
    "class Solution:\n",
    "    def rightSideView(self, root: Optional[TreeNode]) -> List[int]:\n",
    "        arr=self.levelOrder(root)\n",
    "        ans=[item[-1] for item in arr]\n",
    "        return ans\n",
    "\n",
    "    def levelOrder(self, root: Optional[TreeNode]) -> List[List[int]]:\n",
    "        if not root:\n",
    "            return []\n",
    "        ans=[]\n",
    "        node=[]\n",
    "        h=0\n",
    "        node.append((root,h))\n",
    "        while(node):\n",
    "            head=node.pop(0)\n",
    "            if head[1]==len(ans):\n",
    "                ans.append([])\n",
    "\n",
    "            ans[head[1]].append(head[0].val)\n",
    "            h=head[1]+1\n",
    "            if head[0].left:\n",
    "                node.append((head[0].left,h))\n",
    "            if head[0].right:\n",
    "                node.append((head[0].right,h))\n",
    "        return ans"
   ]
  }
 ],
 "metadata": {
  "language_info": {
   "name": "python"
  }
 },
 "nbformat": 4,
 "nbformat_minor": 2
}
