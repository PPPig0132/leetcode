{
 "cells": [
  {
   "cell_type": "markdown",
   "metadata": {},
   "source": [
    "给你一棵二叉树的根节点 root ，翻转这棵二叉树，并返回其根节点。"
   ]
  },
  {
   "cell_type": "code",
   "execution_count": null,
   "metadata": {},
   "outputs": [],
   "source": [
    "from TreeNode import TreeNode\n",
    "from typing import Optional\n",
    "class Solution:\n",
    "    def invertTree(self, root: Optional[TreeNode]) -> Optional[TreeNode]:\n",
    "        if not root:\n",
    "            return None\n",
    "        l,r=None,None\n",
    "        if(root.left):\n",
    "            l=self.invertTree(root.left)\n",
    "        if(root.right):\n",
    "            r=self.invertTree(root.right)\n",
    "        \n",
    "\n",
    "        # if(root.left==None and root.right==None):\n",
    "        root.left=r\n",
    "        root.right=l\n",
    "        return root"
   ]
  },
  {
   "cell_type": "code",
   "execution_count": null,
   "metadata": {},
   "outputs": [],
   "source": []
  }
 ],
 "metadata": {
  "language_info": {
   "name": "python"
  }
 },
 "nbformat": 4,
 "nbformat_minor": 2
}
