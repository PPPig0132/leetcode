{
 "cells": [
  {
   "cell_type": "markdown",
   "metadata": {},
   "source": [
    "二叉树中的 路径 被定义为一条节点序列，序列中每对相邻节点之间都存在一条边。同一个节点在一条路径序列中 至多出现一次 。该路径 至少包含一个 节点，且不一定经过根节点。"
   ]
  },
  {
   "cell_type": "code",
   "execution_count": 1,
   "metadata": {},
   "outputs": [],
   "source": [
    "from typing import Optional,List\n",
    "from TreeNode import TreeNode"
   ]
  },
  {
   "cell_type": "code",
   "execution_count": 18,
   "metadata": {},
   "outputs": [],
   "source": [
    "class Solution:\n",
    "    def maxPathSum(self, root: Optional[TreeNode]) -> int:\n",
    "        if not root:\n",
    "            return -1001\n",
    "        x=root.val\n",
    "        if not root.left and not root.right:\n",
    "            return x\n",
    "        l=self.maxPathSum(root.left)\n",
    "        r=self.maxPathSum(root.right)\n",
    "\n",
    "        ans=max(l,r,l+r+x,x,l+x,r+x)\n",
    "        return ans"
   ]
  },
  {
   "cell_type": "code",
   "execution_count": null,
   "metadata": {},
   "outputs": [],
   "source": [
    "class Solution:\n",
    "    def maxPathSum(self, root: TreeNode) -> int:\n",
    "        self.max_sum =-1001  # 初始化最大路径和为负无穷\n",
    "\n",
    "        def max_gain(node):\n",
    "            if not node:\n",
    "                return 0  # 空节点的最大增益为 0\n",
    "\n",
    "            # 递归计算左右子树的最大增益\n",
    "            # 只在增益为正数时才选择该子树\n",
    "            left_gain = max(max_gain(node.left), 0)\n",
    "            right_gain = max(max_gain(node.right), 0)\n",
    "\n",
    "            # 以当前节点为根的最大路径和\n",
    "            price_newpath = node.val + left_gain + right_gain\n",
    "\n",
    "            # 更新答案\n",
    "            self.max_sum = max(self.max_sum, price_newpath)\n",
    "\n",
    "            # 返回当前节点的最大增益\n",
    "            return node.val + max(left_gain, right_gain)\n",
    "\n",
    "        max_gain(root)\n",
    "        return self.max_sum"
   ]
  },
  {
   "cell_type": "code",
   "execution_count": 3,
   "metadata": {},
   "outputs": [],
   "source": [
    "NodeA=TreeNode(1)\n",
    "NodeB=TreeNode(2)\n",
    "NodeC=TreeNode(3)\n",
    "NodeA.left=NodeB\n",
    "NodeA.right=NodeC"
   ]
  },
  {
   "cell_type": "code",
   "execution_count": 5,
   "metadata": {},
   "outputs": [],
   "source": [
    "NodeA=TreeNode(-10)\n",
    "NodeB=TreeNode(9)\n",
    "NodeC=TreeNode(20)\n",
    "NodeD=TreeNode(15)\n",
    "NodeE=TreeNode(7)\n",
    "NodeA.left=NodeB\n",
    "NodeA.right=NodeC\n",
    "NodeC.left=NodeD\n",
    "NodeC.right=NodeE"
   ]
  },
  {
   "cell_type": "code",
   "execution_count": 14,
   "metadata": {},
   "outputs": [],
   "source": [
    "NodeA=TreeNode(-2)\n",
    "NodeB=TreeNode(-1)\n",
    "NodeA.left=NodeB"
   ]
  },
  {
   "cell_type": "code",
   "execution_count": 21,
   "metadata": {},
   "outputs": [],
   "source": [
    "NodeA=TreeNode(1)\n",
    "NodeB=TreeNode(-2)\n",
    "NodeC=TreeNode(-3)\n",
    "NodeD=TreeNode(1)\n",
    "NodeE=TreeNode(3)\n",
    "NodeF=TreeNode(-2)\n",
    "NodeG=TreeNode(-1)\n",
    "NodeA.left=NodeB\n",
    "NodeA.right=NodeC\n",
    "NodeB.left=NodeD\n",
    "NodeB.right=NodeE\n",
    "NodeC.left=NodeF\n",
    "NodeD.left=NodeG"
   ]
  },
  {
   "cell_type": "code",
   "execution_count": 23,
   "metadata": {},
   "outputs": [
    {
     "name": "stdout",
     "output_type": "stream",
     "text": [
      "4\n"
     ]
    }
   ],
   "source": [
    "sol=Solution()\n",
    "x=sol.maxPathSum(NodeA)\n",
    "print(x) #6"
   ]
  }
 ],
 "metadata": {
  "kernelspec": {
   "display_name": "base",
   "language": "python",
   "name": "python3"
  },
  "language_info": {
   "codemirror_mode": {
    "name": "ipython",
    "version": 3
   },
   "file_extension": ".py",
   "mimetype": "text/x-python",
   "name": "python",
   "nbconvert_exporter": "python",
   "pygments_lexer": "ipython3",
   "version": "3.11.5"
  }
 },
 "nbformat": 4,
 "nbformat_minor": 2
}
