{
 "cells": [
  {
   "cell_type": "markdown",
   "metadata": {},
   "source": [
    "给你二叉树的根结点 root ，请你将它展开为一个单链表：\n",
    "\n",
    "展开后的单链表应该同样使用 TreeNode ，其中 right 子指针指向链表中下一个结点，而左子指针始终为 null 。\n",
    "展开后的单链表应该与二叉树 先序遍历 顺序相同。"
   ]
  },
  {
   "cell_type": "code",
   "execution_count": 6,
   "metadata": {},
   "outputs": [],
   "source": [
    "from typing import Optional,List\n",
    "from TreeNode import TreeNode"
   ]
  },
  {
   "cell_type": "code",
   "execution_count": 7,
   "metadata": {},
   "outputs": [],
   "source": [
    "class Solution:\n",
    "    def flatten(self, root: Optional[TreeNode]) -> None:\n",
    "        \"\"\"\n",
    "        Do not return anything, modify root in-place instead.\n",
    "        \"\"\"\n",
    "        x=self.preorderTraversal(root)\n",
    "        for i in range(len(x)-1):\n",
    "            x[i].left=None\n",
    "            x[i].right=x[i+1]\n",
    "        \n",
    "    def preorderTraversal(self, root: Optional[TreeNode]) -> List[TreeNode]:\n",
    "        if not root:    \n",
    "            return []\n",
    "        ans=[]\n",
    "        ans1=[]\n",
    "        ans2=[]\n",
    "        ans.append(root)\n",
    "        if(root.left !=None):\n",
    "            ans1=self.preorderTraversal(root.left) # type: ignore\n",
    "        for i in ans1:\n",
    "            ans.append(i)\n",
    "\n",
    "\n",
    "        if(root.right!=None):\n",
    "            ans2=self.preorderTraversal(root.right) # type: ignore\n",
    "        for i in ans2:\n",
    "            ans.append(i)\n",
    "        return ans\n",
    "\n",
    "        \n"
   ]
  },
  {
   "cell_type": "code",
   "execution_count": 8,
   "metadata": {},
   "outputs": [],
   "source": [
    "TreeNodeA=TreeNode(1)\n",
    "TreeNodeA.left=TreeNode(2)\n",
    "TreeNodeA.right=TreeNode(5)\n",
    "TreeNodeA.left.left=TreeNode(3)\n",
    "TreeNodeA.left.right=TreeNode(4)\n",
    "TreeNodeA.right.right=TreeNode(6) "
   ]
  },
  {
   "cell_type": "code",
   "execution_count": 9,
   "metadata": {},
   "outputs": [
    {
     "name": "stdout",
     "output_type": "stream",
     "text": [
      "1\n",
      "2\n",
      "3\n",
      "4\n",
      "5\n",
      "6\n"
     ]
    }
   ],
   "source": [
    "sol=Solution()\n",
    "sol.flatten(TreeNodeA)\n",
    "root=TreeNodeA\n",
    "while root:\n",
    "    print(root.val)\n",
    "    root=root.right"
   ]
  }
 ],
 "metadata": {
  "kernelspec": {
   "display_name": "base",
   "language": "python",
   "name": "python3"
  },
  "language_info": {
   "codemirror_mode": {
    "name": "ipython",
    "version": 3
   },
   "file_extension": ".py",
   "mimetype": "text/x-python",
   "name": "python",
   "nbconvert_exporter": "python",
   "pygments_lexer": "ipython3",
   "version": "3.11.5"
  }
 },
 "nbformat": 4,
 "nbformat_minor": 2
}
