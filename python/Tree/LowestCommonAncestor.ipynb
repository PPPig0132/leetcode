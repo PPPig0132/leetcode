{
 "cells": [
  {
   "cell_type": "markdown",
   "metadata": {},
   "source": [
    "满足 x 是 p、q 的祖先且 x 的深度尽可能大（一个节点也可以是它自己的祖先）。”\n",
    "\n",
    "idea:\n",
    "如果在左右子树中都找到p或q，则当前节点就是LCA\n",
    "只在左子树中找到q或q，则左子树的LCA就是整体的LCA\n",
    "右子树同理"
   ]
  },
  {
   "cell_type": "code",
   "execution_count": null,
   "metadata": {},
   "outputs": [],
   "source": [
    "from typing import Optional,List\n",
    "from TreeNode import TreeNode"
   ]
  },
  {
   "cell_type": "code",
   "execution_count": null,
   "metadata": {},
   "outputs": [],
   "source": [
    "class Solution:\n",
    "    def lowestCommonAncestor(self, root: 'TreeNode', p: 'TreeNode', q: 'TreeNode') -> 'TreeNode':\n",
    "        if not root:\n",
    "            return None\n",
    "\n",
    "        # 如果 p 或 q 是当前节点，直接返回当前节点\n",
    "        if root == p or root == q:\n",
    "            return root\n",
    "\n",
    "        # 递归查找左子树和右子树\n",
    "        left_lca = self.lowestCommonAncestor(root.left, p, q)\n",
    "        right_lca = self.lowestCommonAncestor(root.right, p, q)\n",
    "\n",
    "        # 如果左右子树都找到了 p 或 q，那么当前节点就是 LCA\n",
    "        if left_lca and right_lca:\n",
    "            return root\n",
    "\n",
    "        # 如果左子树找到了 p 或 q，返回左子树的结果\n",
    "        if left_lca:\n",
    "            return left_lca\n",
    "\n",
    "        # 如果右子树找到了 p 或 q，返回右子树的结果\n",
    "        if right_lca:\n",
    "            return right_lca\n",
    "\n",
    "        # 如果左右子树都没有找到 p 或 q，返回 None\n",
    "        return None\n",
    "\n",
    "\n",
    "    def check(self,root:'TreeNode',p:'TreeNode')->bool:\n",
    "        if not root:\n",
    "            return False\n",
    "        if root==p:\n",
    "            return True\n",
    "        x=self.check(root.left,p)\n",
    "        y=self.check(root.right,p)\n",
    "        return x or y\n",
    "\n"
   ]
  }
 ],
 "metadata": {
  "kernelspec": {
   "display_name": "base",
   "language": "python",
   "name": "python3"
  },
  "language_info": {
   "codemirror_mode": {
    "name": "ipython",
    "version": 3
   },
   "file_extension": ".py",
   "mimetype": "text/x-python",
   "name": "python",
   "nbconvert_exporter": "python",
   "pygments_lexer": "ipython3",
   "version": "3.11.5"
  }
 },
 "nbformat": 4,
 "nbformat_minor": 2
}
