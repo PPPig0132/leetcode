{
 "cells": [
  {
   "cell_type": "markdown",
   "metadata": {},
   "source": [
    "给定一个二叉树 root ，返回其最大深度。\n",
    "\n",
    "二叉树的 最大深度 是指从根节点到最远叶子节点的最长路径上的节点数。"
   ]
  },
  {
   "cell_type": "code",
   "execution_count": 9,
   "metadata": {},
   "outputs": [],
   "source": [
    "from TreeNode import TreeNode\n",
    "from typing import Optional\n",
    "class Solution:\n",
    "    def maxDepth(self, root: Optional[TreeNode]) -> int:\n",
    "        if not root:\n",
    "            return 0\n",
    "        l,r=0,0\n",
    "        if(root.left):\n",
    "            l=self.maxDepth(root.left)\n",
    "        if(root.right):\n",
    "            r=self.maxDepth(root.right)\n",
    "        return max(l,r)+1"
   ]
  },
  {
   "cell_type": "code",
   "execution_count": 7,
   "metadata": {},
   "outputs": [],
   "source": [
    "TreeNodeA=TreeNode(1)\n",
    "TreeNodeB=TreeNode(2)\n",
    "TreeNodeC=TreeNode(3)\n",
    "TreeNodeA.right=TreeNodeB\n",
    "TreeNodeB.left=TreeNodeC"
   ]
  },
  {
   "cell_type": "code",
   "execution_count": 10,
   "metadata": {},
   "outputs": [
    {
     "name": "stdout",
     "output_type": "stream",
     "text": [
      "3\n"
     ]
    }
   ],
   "source": [
    "sol=Solution()\n",
    "x=sol.maxDepth(TreeNodeA)\n",
    "print(x)"
   ]
  }
 ],
 "metadata": {
  "kernelspec": {
   "display_name": "base",
   "language": "python",
   "name": "python3"
  },
  "language_info": {
   "codemirror_mode": {
    "name": "ipython",
    "version": 3
   },
   "file_extension": ".py",
   "mimetype": "text/x-python",
   "name": "python",
   "nbconvert_exporter": "python",
   "pygments_lexer": "ipython3",
   "version": "3.11.5"
  }
 },
 "nbformat": 4,
 "nbformat_minor": 2
}
