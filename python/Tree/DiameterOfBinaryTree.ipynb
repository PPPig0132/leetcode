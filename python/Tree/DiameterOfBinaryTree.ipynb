{
 "cells": [
  {
   "cell_type": "markdown",
   "metadata": {},
   "source": [
    "给你一棵二叉树的根节点，返回该树的 直径 。\n",
    "\n",
    "二叉树的 直径 是指树中任意两个节点之间最长路径的 长度 。这条路径可能经过也可能不经过根节点 root 。\n",
    "\n",
    "两节点之间路径的 长度 由它们之间边数表示。"
   ]
  },
  {
   "cell_type": "code",
   "execution_count": 1,
   "metadata": {},
   "outputs": [],
   "source": [
    "from typing import Optional\n",
    "from TreeNode import TreeNode"
   ]
  },
  {
   "cell_type": "code",
   "execution_count": null,
   "metadata": {},
   "outputs": [],
   "source": [
    "class Solution:\n",
    "    def diameterOfBinaryTree(self, root: Optional[TreeNode]) -> int:\n",
    "        if not root:\n",
    "            return 0\n",
    "        self.ans=0\n",
    "        self.getDepth(root)\n",
    "        return self.ans\n",
    "       \n",
    "\n",
    "\n",
    "\n",
    "    def getDepth(self,p: Optional[TreeNode])->int:\n",
    "        if not p:\n",
    "            return 0\n",
    "        l=self.getDepth(p.left)\n",
    "        r=self.getDepth(p.right)\n",
    "        self.ans=max(self.ans,l+r)\n",
    "        return max(l,r)+1"
   ]
  },
  {
   "cell_type": "code",
   "execution_count": 15,
   "metadata": {},
   "outputs": [],
   "source": [
    "Node=TreeNode(1)\n",
    "Node.left=TreeNode(2)\n",
    "Node.right=TreeNode(3)\n",
    "Node.left.left=TreeNode(4)\n",
    "Node.left.right=TreeNode(5)"
   ]
  },
  {
   "cell_type": "code",
   "execution_count": 16,
   "metadata": {},
   "outputs": [
    {
     "name": "stdout",
     "output_type": "stream",
     "text": [
      "3\n"
     ]
    }
   ],
   "source": [
    "sol=Solution()\n",
    "x=sol.diameterOfBinaryTree(Node)\n",
    "print(x)"
   ]
  }
 ],
 "metadata": {
  "kernelspec": {
   "display_name": "base",
   "language": "python",
   "name": "python3"
  },
  "language_info": {
   "codemirror_mode": {
    "name": "ipython",
    "version": 3
   },
   "file_extension": ".py",
   "mimetype": "text/x-python",
   "name": "python",
   "nbconvert_exporter": "python",
   "pygments_lexer": "ipython3",
   "version": "3.11.5"
  }
 },
 "nbformat": 4,
 "nbformat_minor": 2
}
