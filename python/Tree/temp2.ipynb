{
 "cells": [
  {
   "cell_type": "code",
   "execution_count": 1,
   "metadata": {},
   "outputs": [],
   "source": [
    "from TreeNode import TreeNode \n",
    "from typing import List, Optional\n",
    "class Solution:\n",
    "    def inorderTraversal(self, root: Optional[TreeNode]) -> List[int]:\n",
    "        ans=[]\n",
    "        ans1=[]\n",
    "        ans2=[]\n",
    "        if not root:\n",
    "            ans.append(None)    \n",
    "            return ans\n",
    "        \n",
    "        if(root):\n",
    "            ans1=self.inorderTraversal(root.left) # type: ignore\n",
    "        for i in ans1:\n",
    "            ans.append(i)\n",
    "        ans.append(root.val)\n",
    "        # print(root.val)\n",
    "\n",
    "        if(root):\n",
    "            ans2=self.inorderTraversal(root.right) # type: ignore\n",
    "        for i in ans2:\n",
    "            ans.append(i)\n",
    "        return ans"
   ]
  },
  {
   "cell_type": "code",
   "execution_count": 2,
   "metadata": {},
   "outputs": [],
   "source": [
    "TreeNodeA=TreeNode(1)\n",
    "TreeNodeB=TreeNode(2)\n",
    "TreeNodeC=TreeNode(3)\n",
    "TreeNodeA.right=TreeNodeB\n",
    "TreeNodeB.left=TreeNodeC"
   ]
  },
  {
   "cell_type": "code",
   "execution_count": 4,
   "metadata": {},
   "outputs": [],
   "source": [
    "sol=Solution()\n",
    "ans=sol.inorderTraversal(TreeNodeA)\n"
   ]
  }
 ],
 "metadata": {
  "kernelspec": {
   "display_name": "base",
   "language": "python",
   "name": "python3"
  },
  "language_info": {
   "codemirror_mode": {
    "name": "ipython",
    "version": 3
   },
   "file_extension": ".py",
   "mimetype": "text/x-python",
   "name": "python",
   "nbconvert_exporter": "python",
   "pygments_lexer": "ipython3",
   "version": "3.11.5"
  }
 },
 "nbformat": 4,
 "nbformat_minor": 2
}
