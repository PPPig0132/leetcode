{
 "cells": [
  {
   "cell_type": "markdown",
   "metadata": {},
   "source": [
    "给你二叉树的根节点 root ，返回其节点值的 层序遍历 。 （即逐层地，从左到右访问所有节点）"
   ]
  },
  {
   "cell_type": "code",
   "execution_count": 3,
   "metadata": {},
   "outputs": [],
   "source": [
    "from typing import Optional,List\n",
    "from TreeNode import TreeNode"
   ]
  },
  {
   "cell_type": "code",
   "execution_count": 15,
   "metadata": {},
   "outputs": [],
   "source": [
    "class Solution:\n",
    "    def levelOrder(self, root: Optional[TreeNode]) -> List[List[int]]:\n",
    "        if not root:\n",
    "            return []\n",
    "        ans=[]\n",
    "        node=[]\n",
    "        h=0\n",
    "        node.append((root,h))\n",
    "        while(node):\n",
    "            head=node.pop(0)\n",
    "            if head[1]==len(ans):\n",
    "                ans.append([])\n",
    "\n",
    "            ans[head[1]].append(head[0].val)\n",
    "            h=head[1]+1\n",
    "            if head[0].left:\n",
    "                node.append((head[0].left,h))\n",
    "            if head[0].right:\n",
    "                node.append((head[0].right,h))\n",
    "        return ans"
   ]
  },
  {
   "cell_type": "code",
   "execution_count": 5,
   "metadata": {},
   "outputs": [],
   "source": [
    "Node=TreeNode(3)\n",
    "Node.left=TreeNode(9)\n",
    "Node.right=TreeNode(20)\n",
    "Node.right.left=TreeNode(15)\n",
    "Node.right.right=TreeNode(7)\n"
   ]
  },
  {
   "cell_type": "code",
   "execution_count": 16,
   "metadata": {},
   "outputs": [
    {
     "name": "stdout",
     "output_type": "stream",
     "text": [
      "[[3], [9, 20], [15, 7]]\n"
     ]
    }
   ],
   "source": [
    "sol=Solution()\n",
    "x=sol.levelOrder(Node)\n",
    "print(x)"
   ]
  }
 ],
 "metadata": {
  "kernelspec": {
   "display_name": "base",
   "language": "python",
   "name": "python3"
  },
  "language_info": {
   "codemirror_mode": {
    "name": "ipython",
    "version": 3
   },
   "file_extension": ".py",
   "mimetype": "text/x-python",
   "name": "python",
   "nbconvert_exporter": "python",
   "pygments_lexer": "ipython3",
   "version": "3.11.5"
  }
 },
 "nbformat": 4,
 "nbformat_minor": 2
}
