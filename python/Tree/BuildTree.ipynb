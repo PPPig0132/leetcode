{
 "cells": [
  {
   "cell_type": "markdown",
   "metadata": {},
   "source": [
    "给定两个整数数组 preorder 和 inorder ，其中 preorder 是二叉树的先序遍历， inorder 是同一棵树的中序遍历，请构造二叉树并返回其根节点。\n"
   ]
  },
  {
   "cell_type": "code",
   "execution_count": 2,
   "metadata": {},
   "outputs": [],
   "source": [
    "from typing import Optional,List\n",
    "from TreeNode import TreeNode"
   ]
  },
  {
   "cell_type": "code",
   "execution_count": null,
   "metadata": {},
   "outputs": [],
   "source": [
    "class Solution:\n",
    "    def buildTree(self, preorder: List[int], inorder: List[int]) -> Optional[TreeNode]:\n",
    "        if not inorder:\n",
    "            return None\n",
    "\n",
    "        x=preorder.pop(0)\n",
    "        root=TreeNode(x)\n",
    "        inorderl=[]\n",
    "        for i in range(len(inorder)):\n",
    "            y=inorder.pop(0)\n",
    "            if(y==x):\n",
    "                break\n",
    "            inorderl.append(y)\n",
    "        root.left=self.buildTree(preorder,inorderl)\n",
    "        root.right=self.buildTree(preorder,inorder)\n",
    "\n",
    "        if len(inorder)==0:\n",
    "            return root\n",
    "    def preorderTraversal(self, root: Optional[TreeNode]) -> List[TreeNode]:\n",
    "        if not root:    \n",
    "            return []\n",
    "        ans=[]\n",
    "        ans1=[]\n",
    "        ans2=[]\n",
    "        ans.append(root)\n",
    "        if(root.left !=None):\n",
    "            ans1=self.preorderTraversal(root.left) # type: ignore\n",
    "        for i in ans1:\n",
    "            ans.append(i)\n",
    "   \n",
    "\n",
    "        if(root.right!=None):\n",
    "            ans2=self.preorderTraversal(root.right) # type: ignore\n",
    "        for i in ans2:\n",
    "            ans.append(i)\n",
    "        return ans\n",
    "    def inorderTraversal(self, root: Optional[TreeNode]) -> List[int]:\n",
    "        if not root:    \n",
    "            return []\n",
    "        ans=[]\n",
    "        ans1=[]\n",
    "        ans2=[]\n",
    "        if(root.left !=None):\n",
    "            ans1=self.inorderTraversal(root.left) # type: ignore\n",
    "        for i in ans1:\n",
    "            ans.append(i)\n",
    "        ans.append(root.val)\n",
    "        # print(root.val)\n",
    "\n",
    "        if(root.right!=None):\n",
    "            ans2=self.inorderTraversal(root.right) # type: ignore\n",
    "        for i in ans2:\n",
    "            ans.append(i)\n",
    "        return ans"
   ]
  },
  {
   "cell_type": "code",
   "execution_count": 10,
   "metadata": {},
   "outputs": [
    {
     "name": "stdout",
     "output_type": "stream",
     "text": [
      "3\n",
      "3\n",
      "9\n",
      "20\n",
      "15\n",
      "7\n",
      "[9, 3, 15, 20, 7]\n"
     ]
    }
   ],
   "source": [
    "pre=[3,9,20,15,7]\n",
    "ino=[9,3,15,20,7]\n",
    "sol=Solution()\n",
    "root=sol.buildTree(pre,ino)\n",
    "print(root.val)\n",
    "x=sol.preorderTraversal(root)\n",
    "for i in x:\n",
    "    print(i.val)\n",
    "y=sol.inorderTraversal(root)\n",
    "print(y)\n"
   ]
  }
 ],
 "metadata": {
  "kernelspec": {
   "display_name": "base",
   "language": "python",
   "name": "python3"
  },
  "language_info": {
   "codemirror_mode": {
    "name": "ipython",
    "version": 3
   },
   "file_extension": ".py",
   "mimetype": "text/x-python",
   "name": "python",
   "nbconvert_exporter": "python",
   "pygments_lexer": "ipython3",
   "version": "3.11.5"
  }
 },
 "nbformat": 4,
 "nbformat_minor": 2
}
