{
 "cells": [
  {
   "cell_type": "code",
   "execution_count": 5,
   "metadata": {},
   "outputs": [],
   "source": [
    "from typing import Optional,List\n",
    "from Tree.TreeNode import TreeNode\n",
    "class Solution:\n",
    "    def inorderTraversal(self, root: Optional[TreeNode]) -> List[int]:\n",
    "        if not root:    \n",
    "            return []\n",
    "        ans=[]\n",
    "        ans1=[]\n",
    "        ans2=[]\n",
    "        if(root.left !=None):\n",
    "            ans1=self.inorderTraversal(root.left) # type: ignore\n",
    "        for i in ans1:\n",
    "            ans.append(i)\n",
    "        ans.append(root.val)\n",
    "        # print(root.val)\n",
    "\n",
    "        if(root.right!=None):\n",
    "            ans2=self.inorderTraversal(root.right) # type: ignore\n",
    "        for i in ans2:\n",
    "            ans.append(i)\n",
    "        return ans\n",
    "    \n",
    "    def invertTree(self, root: Optional[TreeNode]) -> Optional[TreeNode]:\n",
    "        if not root:\n",
    "            return None\n",
    "        l,r=None,None\n",
    "        if(root.left):\n",
    "            l=self.invertTree(root.left)\n",
    "        if(root.right):\n",
    "            r=self.invertTree(root.right)\n",
    "        \n",
    "\n",
    "        # if(root.left==None and root.right==None):\n",
    "        root.left=r\n",
    "        root.right=l\n",
    "        return root\n",
    "    \n",
    "    def preorderTraversal(self, root: Optional[TreeNode]) -> List[TreeNode]:\n",
    "        if not root:    \n",
    "            return []\n",
    "        ans=[]\n",
    "        ans1=[]\n",
    "        ans2=[]\n",
    "        ans.append(root)\n",
    "        if(root.left !=None):\n",
    "            ans1=self.preorderTraversal(root.left) # type: ignore\n",
    "        for i in ans1:\n",
    "            ans.append(i)\n",
    "   \n",
    "\n",
    "        if(root.right!=None):\n",
    "            ans2=self.preorderTraversal(root.right) # type: ignore\n",
    "        for i in ans2:\n",
    "            ans.append(i)\n",
    "        return ans\n",
    "    def check(self,root:'TreeNode',p:'TreeNode')->bool:\n",
    "        if not root:\n",
    "            return False\n",
    "        if root==p:\n",
    "            return True\n",
    "        x=self.check(root.left,p)\n",
    "        y=self.check(root.right,p)\n",
    "        return x or y\n",
    "       "
   ]
  },
  {
   "cell_type": "code",
   "execution_count": 2,
   "metadata": {},
   "outputs": [],
   "source": [
    "TreeNodeA=TreeNode(4)\n",
    "TreeNodeB=TreeNode(2)\n",
    "TreeNodeC=TreeNode(7)\n",
    "TreeNodeD=TreeNode(1)\n",
    "TreeNodeE=TreeNode(3)\n",
    "TreeNodeF=TreeNode(6)\n",
    "TreeNodeG=TreeNode(9)\n",
    "TreeNodeA.right=TreeNodeC\n",
    "TreeNodeA.left=TreeNodeB\n",
    "TreeNodeB.right=TreeNodeE\n",
    "TreeNodeB.left=TreeNodeD\n",
    "TreeNodeC.right=TreeNodeG\n",
    "TreeNodeC.left=TreeNodeF\n",
    "TreeNodeH=TreeNode(5)"
   ]
  },
  {
   "cell_type": "code",
   "execution_count": 9,
   "metadata": {},
   "outputs": [
    {
     "name": "stdout",
     "output_type": "stream",
     "text": [
      "False\n"
     ]
    }
   ],
   "source": [
    "sol=Solution()\n",
    "root=sol.check(TreeNodeA,TreeNodeH)\n",
    "print(root)\n",
    "\n"
   ]
  },
  {
   "cell_type": "code",
   "execution_count": 16,
   "metadata": {},
   "outputs": [],
   "source": [
    "x=[]\n",
    "x.append(1)\n",
    "x.append(2)\n",
    "x.append(None)\n",
    "x.append(3)\n",
    "y=x.pop(0)"
   ]
  },
  {
   "cell_type": "code",
   "execution_count": 29,
   "metadata": {},
   "outputs": [
    {
     "name": "stdout",
     "output_type": "stream",
     "text": [
      "1\n",
      "2\n",
      "1\n",
      "4\n",
      "1\n",
      "2\n",
      "1\n"
     ]
    }
   ],
   "source": [
    "sol=Solution()\n",
    "sol.getLNode(TreeNodeA)"
   ]
  },
  {
   "cell_type": "code",
   "execution_count": 20,
   "metadata": {},
   "outputs": [
    {
     "name": "stdout",
     "output_type": "stream",
     "text": [
      "[1, 2, 3, 4, 6, 7, 9]\n",
      "[9, 7, 6, 4, 3, 2, 1]\n"
     ]
    }
   ],
   "source": [
    "sol=Solution()\n",
    "x=sol.inorderTraversal(TreeNodeA)\n",
    "print(x)\n",
    "y=sol.invertTree(TreeNodeA)\n",
    "z=sol.inorderTraversal(y)\n",
    "print(z)"
   ]
  },
  {
   "cell_type": "code",
   "execution_count": 41,
   "metadata": {},
   "outputs": [
    {
     "name": "stdout",
     "output_type": "stream",
     "text": [
      "1\n",
      "1\n",
      "2\n",
      "2\n",
      "empty\n"
     ]
    }
   ],
   "source": [
    "x=[]\n",
    "x.append((TreeNode(1),1))\n",
    "x.append((TreeNode(2),2))\n",
    "\n",
    "while(x):\n",
    "    y=x.pop(0)\n",
    "    print(y[0].val)\n",
    "    print(y[1])\n",
    "if not x :\n",
    "    print(\"empty\")"
   ]
  },
  {
   "cell_type": "code",
   "execution_count": 8,
   "metadata": {},
   "outputs": [
    {
     "name": "stdout",
     "output_type": "stream",
     "text": [
      "[]\n",
      "[]\n",
      "1\n",
      "empty\n"
     ]
    }
   ],
   "source": [
    "x=[1,2,3,4,5,6,7,8,9]\n",
    "x=[1]\n",
    "mid=int(len(x)/2)\n",
    "x1=x[:mid]\n",
    "x2=x[mid+1:]\n",
    "print(x1)\n",
    "print(x2)\n",
    "print(x[mid])\n",
    "if not x1:\n",
    "    print(\"empty\")"
   ]
  }
 ],
 "metadata": {
  "kernelspec": {
   "display_name": "base",
   "language": "python",
   "name": "python3"
  },
  "language_info": {
   "codemirror_mode": {
    "name": "ipython",
    "version": 3
   },
   "file_extension": ".py",
   "mimetype": "text/x-python",
   "name": "python",
   "nbconvert_exporter": "python",
   "pygments_lexer": "ipython3",
   "version": "3.11.5"
  }
 },
 "nbformat": 4,
 "nbformat_minor": 2
}
