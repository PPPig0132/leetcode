{
 "cells": [
  {
   "cell_type": "code",
   "execution_count": 17,
   "metadata": {},
   "outputs": [],
   "source": [
    "from ListNode import ListNode\n",
    "from typing import Optional\n",
    "class Solution:\n",
    "    def reverseList(self, head: Optional[ListNode]) -> Optional[ListNode]:\n",
    "        if(head==None):\n",
    "            return None\n",
    "        before=ListNode()\n",
    "        before.next=head\n",
    "        pre=head\n",
    "        before.next=None\n",
    "        while(pre):\n",
    "            x=pre\n",
    "            pre=pre.next\n",
    "            x.next=before.next\n",
    "            before.next=x\n",
    "        return before.next"
   ]
  },
  {
   "cell_type": "code",
   "execution_count": 18,
   "metadata": {},
   "outputs": [
    {
     "name": "stdout",
     "output_type": "stream",
     "text": [
      "4\n",
      "2\n",
      "7\n",
      "9\n",
      "6\n"
     ]
    }
   ],
   "source": [
    "dataA=ListNode(4)\n",
    "dataA.next=ListNode(2)\n",
    "dataA.next.next=ListNode(7)\n",
    "dataA.next.next.next=ListNode(9)\n",
    "dataA.next.next.next.next=ListNode(6)\n",
    "dataA.next.next.next.next.next=None\n",
    "\n",
    "x=dataA\n",
    "while(x):\n",
    "    print(x.val)\n",
    "    x=x.next"
   ]
  },
  {
   "cell_type": "code",
   "execution_count": 19,
   "metadata": {},
   "outputs": [
    {
     "name": "stdout",
     "output_type": "stream",
     "text": [
      "6\n",
      "9\n",
      "7\n",
      "2\n",
      "4\n"
     ]
    }
   ],
   "source": [
    "sol=Solution()\n",
    "\n",
    "dataB=sol.reverseList(dataA)\n",
    "while(dataB):\n",
    "    print(dataB.val)\n",
    "    dataB=dataB.next"
   ]
  }
 ],
 "metadata": {
  "kernelspec": {
   "display_name": "base",
   "language": "python",
   "name": "python3"
  },
  "language_info": {
   "codemirror_mode": {
    "name": "ipython",
    "version": 3
   },
   "file_extension": ".py",
   "mimetype": "text/x-python",
   "name": "python",
   "nbconvert_exporter": "python",
   "pygments_lexer": "ipython3",
   "version": "3.11.5"
  }
 },
 "nbformat": 4,
 "nbformat_minor": 2
}
