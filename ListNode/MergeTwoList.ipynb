{
 "cells": [
  {
   "cell_type": "code",
   "execution_count": 2,
   "metadata": {},
   "outputs": [],
   "source": [
    "from typing import Optional\n",
    "from ListNode import ListNode\n",
    "class Solution:\n",
    "    def mergeTwoLists(self, list1: Optional[ListNode], list2: Optional[ListNode]) -> Optional[ListNode]:\n",
    "        if not list1:\n",
    "            return list2\n",
    "        if not list2:\n",
    "            return list1\n",
    "        x=ListNode()\n",
    "        end=x\n",
    "\n",
    "        while(list1 and list2):\n",
    "            if(list1.val<=list2.val):\n",
    "                end.next=list1\n",
    "                end=end.next\n",
    "                list1=list1.next\n",
    "            else:\n",
    "                end.next=list2\n",
    "                end=end.next\n",
    "                list2=list2.next\n",
    "        if(list1):\n",
    "            end.next=list1\n",
    "        elif(list2):\n",
    "            end.next=list2\n",
    "        x=x.next\n",
    "        return x\n",
    "\n"
   ]
  },
  {
   "cell_type": "code",
   "execution_count": 3,
   "metadata": {},
   "outputs": [],
   "source": [
    "dataA=ListNode(1)\n",
    "dataA.next=ListNode(2)\n",
    "dataA.next.next=ListNode(4)\n",
    "dataB=ListNode(1)\n",
    "dataB.next=ListNode(3)\n",
    "dataB.next.next=ListNode(4)"
   ]
  },
  {
   "cell_type": "code",
   "execution_count": 4,
   "metadata": {},
   "outputs": [
    {
     "name": "stdout",
     "output_type": "stream",
     "text": [
      "1\n",
      "1\n",
      "2\n",
      "3\n",
      "4\n",
      "4\n"
     ]
    }
   ],
   "source": [
    "sol=Solution()\n",
    "x=sol.mergeTwoLists(dataA,dataB)\n",
    "a=x\n",
    "while(a):\n",
    "    print(a.val)\n",
    "    a=a.next"
   ]
  }
 ],
 "metadata": {
  "kernelspec": {
   "display_name": "base",
   "language": "python",
   "name": "python3"
  },
  "language_info": {
   "codemirror_mode": {
    "name": "ipython",
    "version": 3
   },
   "file_extension": ".py",
   "mimetype": "text/x-python",
   "name": "python",
   "nbconvert_exporter": "python",
   "pygments_lexer": "ipython3",
   "version": "3.11.5"
  }
 },
 "nbformat": 4,
 "nbformat_minor": 2
}
