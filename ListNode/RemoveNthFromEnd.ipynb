{
 "cells": [
  {
   "cell_type": "markdown",
   "metadata": {},
   "source": [
    "给你一个链表，删除链表的倒数第 n 个结点，并且返回链表的头结点。\n",
    "一遍扫描\n",
    "\n",
    "idea:采用双指针，前后指针保持n的距离，当后面的指针扫描到链表尾部时，前指针所指向的就是倒是第n个\n",
    "特别的，由于最后一个元素是倒数第一个，因此当end.next为Null即指向最后一个元素时，pre指向的就是倒数第n个的前驱节点\n",
    "\n"
   ]
  },
  {
   "cell_type": "code",
   "execution_count": 2,
   "metadata": {},
   "outputs": [],
   "source": [
    "from typing import Optional\n",
    "from ListNode import ListNode\n",
    "class Solution:\n",
    "    def removeNthFromEnd(self, head: Optional[ListNode], n: int) -> Optional[ListNode]:\n",
    "        pre=head\n",
    "        end=head\n",
    "        for i in range(n):\n",
    "            end=end.next\n",
    "        if not end:\n",
    "            return head.next\n",
    "        while(end.next):\n",
    "            end=end.next\n",
    "            pre=pre.next\n",
    "        pre.next=pre.next.next\n",
    "\n",
    "        return head\n",
    "       "
   ]
  },
  {
   "cell_type": "code",
   "execution_count": 7,
   "metadata": {},
   "outputs": [],
   "source": [
    "data=ListNode(1)\n",
    "data.next=ListNode(2)\n",
    "data.next.next=ListNode(3)\n",
    "data.next.next.next=ListNode(4)\n",
    "data.next.next.next.next=ListNode(5)\n",
    "\n"
   ]
  },
  {
   "cell_type": "code",
   "execution_count": 8,
   "metadata": {},
   "outputs": [
    {
     "name": "stdout",
     "output_type": "stream",
     "text": [
      "1\n",
      "3\n",
      "4\n",
      "5\n"
     ]
    }
   ],
   "source": [
    "sol=Solution()\n",
    "x=sol.removeNthFromEnd(data,4)\n",
    "while(x):\n",
    "    print(x.val)\n",
    "    x=x.next"
   ]
  }
 ],
 "metadata": {
  "kernelspec": {
   "display_name": "base",
   "language": "python",
   "name": "python3"
  },
  "language_info": {
   "codemirror_mode": {
    "name": "ipython",
    "version": 3
   },
   "file_extension": ".py",
   "mimetype": "text/x-python",
   "name": "python",
   "nbconvert_exporter": "python",
   "pygments_lexer": "ipython3",
   "version": "3.11.5"
  }
 },
 "nbformat": 4,
 "nbformat_minor": 2
}
