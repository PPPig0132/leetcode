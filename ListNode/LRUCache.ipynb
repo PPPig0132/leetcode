{
 "cells": [
  {
   "cell_type": "code",
   "execution_count": null,
   "metadata": {},
   "outputs": [],
   "source": [
    "请你设计并实现一个满足  LRU (最近最少使用) 缓存 约束的数据结构。\n",
    "实现 LRUCache 类：\n",
    "LRUCache(int capacity) 以 正整数 作为容量 capacity 初始化 LRU 缓存\n",
    "int get(int key) 如果关键字 key 存在于缓存中，则返回关键字的值，否则返回 -1 。\n",
    "void put(int key, int value) 如果关键字 key 已经存在，则变更其数据值 value ；如果不存在，则向缓存中插入该组 key-value 。\n",
    "如果插入操作导致关键字数量超过 capacity ，则应该 逐出 最久未使用的关键字。\n",
    "函数 get 和 put 必须以 O(1) 的平均时间复杂度运行。"
   ]
  },
  {
   "cell_type": "markdown",
   "metadata": {},
   "source": [
    "idea:\n",
    "hash表+双向链表\n",
    "hash表存储key和对应的节点\n"
   ]
  },
  {
   "cell_type": "code",
   "execution_count": null,
   "metadata": {},
   "outputs": [],
   "source": [
    "class LRUCache:\n",
    "\n",
    "    def __init__(self, capacity: int):\n",
    "        \n",
    "\n",
    "    def get(self, key: int) -> int:\n",
    "        \n",
    "\n",
    "    def put(self, key: int, value: int) -> None:"
   ]
  }
 ],
 "metadata": {
  "language_info": {
   "name": "python"
  }
 },
 "nbformat": 4,
 "nbformat_minor": 2
}
