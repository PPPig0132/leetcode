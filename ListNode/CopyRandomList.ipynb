{
 "cells": [
  {
   "cell_type": "markdown",
   "metadata": {},
   "source": [
    "给你一个长度为 n 的链表，每个节点包含一个额外增加的随机指针 random ，该指针可以指向链表中的任何节点或空节点。\n",
    "\n",
    "构造这个链表的 深拷贝。 深拷贝应该正好由 n 个 全新 节点组成，其中每个新节点的值都设为其对应的原节点的值。新节点的 next 指针和 random 指针也都应指向复制链表中的新节点，并使原链表和复制链表中的这些指针能够表示相同的链表状态。复制链表中的指针都不应指向原链表中的节点 。\n",
    "\n",
    "例如，如果原链表中有 X 和 Y 两个节点，其中 X.random --> Y 。那么在复制链表中对应的两个节点 x 和 y ，同样有 x.random --> y 。\n",
    "\n",
    "返回复制链表的头节点。\n",
    "\n",
    "用一个由 n 个节点组成的链表来表示输入/输出中的链表。每个节点用一个 [val, random_index] 表示：\n",
    "\n",
    "val：一个表示 Node.val 的整数。\n",
    "random_index：随机指针指向的节点索引（范围从 0 到 n-1）；如果不指向任何节点，则为  null 。\n",
    "你的代码 只 接受原链表的头节点 head 作为传入参数。"
   ]
  },
  {
   "cell_type": "markdown",
   "metadata": {},
   "source": [
    "#todo:\n",
    "当前为先创建链表再复制random,尝试next和random一起复制"
   ]
  },
  {
   "cell_type": "code",
   "execution_count": 7,
   "metadata": {},
   "outputs": [],
   "source": [
    "from typing import Optional\n",
    "from ListNode import Node\n",
    "class Solution:\n",
    "    def copyRandomList(self, head: 'Optional[Node]') -> 'Optional[Node]':\n",
    "        if not head:\n",
    "            return None\n",
    "        new_head=Node(head.val)\n",
    "        x,y=head,new_head\n",
    "        while(x):\n",
    "            x=x.next\n",
    "            if(x):\n",
    "               new_node=Node(x.val)\n",
    "            else:\n",
    "                new_node=None\n",
    "            y.next=new_node\n",
    "            y=y.next\n",
    "        x,y=head,new_head\n",
    "        while(x):\n",
    "            if(x.random):\n",
    "                x1,y1=head,new_head#从头遍历\n",
    "                while(x1!=x.random):\n",
    "                    x1=x1.next\n",
    "                    y1=y1.next\n",
    "                y.random=y1\n",
    "                x=x.next\n",
    "                y=y.next\n",
    "\n",
    "            else:\n",
    "                y.random=None\n",
    "                x=x.next\n",
    "                y=y.next\n",
    "        return new_head\n"
   ]
  },
  {
   "cell_type": "code",
   "execution_count": 8,
   "metadata": {},
   "outputs": [],
   "source": [
    "dataA=Node(7)\n",
    "dataB=Node(13)\n",
    "dataC=Node(11)\n",
    "dataD=Node(10)\n",
    "dataE=Node(1)\n",
    "\n",
    "\n",
    "dataA.next=dataB\n",
    "dataB.next=dataC\n",
    "dataC.next=dataD\n",
    "dataD.next=dataE\n",
    "\n",
    "dataA.random=None\n",
    "dataB.random=dataA\n",
    "dataC.random=dataE\n",
    "dataD.random=dataC\n",
    "dataE.random=dataA"
   ]
  },
  {
   "cell_type": "code",
   "execution_count": 9,
   "metadata": {},
   "outputs": [
    {
     "name": "stdout",
     "output_type": "stream",
     "text": [
      "7\n",
      "7\n",
      "13\n",
      "1\n",
      "11\n",
      "11\n",
      "10\n",
      "7\n",
      "1\n",
      "None\n"
     ]
    }
   ],
   "source": [
    "sol=Solution()\n",
    "new_head=sol.copyRandomList(dataA)\n",
    "temp=new_head\n",
    "while(temp):\n",
    "    print(temp.val)\n",
    "    temp=temp.next\n",
    "    if(temp):\n",
    "        print(temp.random.val)\n",
    "    else:\n",
    "        print(temp)\n"
   ]
  }
 ],
 "metadata": {
  "kernelspec": {
   "display_name": "base",
   "language": "python",
   "name": "python3"
  },
  "language_info": {
   "codemirror_mode": {
    "name": "ipython",
    "version": 3
   },
   "file_extension": ".py",
   "mimetype": "text/x-python",
   "name": "python",
   "nbconvert_exporter": "python",
   "pygments_lexer": "ipython3",
   "version": "3.11.5"
  }
 },
 "nbformat": 4,
 "nbformat_minor": 2
}
