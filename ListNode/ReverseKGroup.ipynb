{
 "cells": [
  {
   "cell_type": "markdown",
   "metadata": {},
   "source": [
    "给你链表的头节点 head ，每 k 个节点一组进行翻转，请你返回修改后的链表。\n",
    "\n",
    "k 是一个正整数，它的值小于或等于链表的长度。如果节点总数不是 k 的整数倍，那么请将最后剩余的节点保持原有顺序。\n",
    "\n",
    "你不能只是单纯的改变节点内部的值，而是需要实际进行节点交换。"
   ]
  },
  {
   "cell_type": "code",
   "execution_count": null,
   "metadata": {},
   "outputs": [],
   "source": [
    "from ListNode import ListNode\n",
    "from typing import Optional\n",
    "class Solution:\n",
    "    def reverseKGroup(self, head: Optional[ListNode], k: int) -> Optional[ListNode]:\n",
    "        if(k==1) or (not head) or (not head.next):\n",
    "            return head\n",
    "        pre=ListNode()\n",
    "        pre.next=head\n",
    "        head=pre\n",
    "\n",
    "        x=pre.next #记录k之后的\n",
    "        while(x):\n",
    "            count=0\n",
    "            y=x #当前段的头\n",
    "            for i in range(k):\n",
    "                if(x):\n",
    "                    x=x.next\n",
    "                    count+=1\n",
    "                else:\n",
    "                    break\n",
    "            if(not x and count!=k):\n",
    "                break\n",
    "            end=y #当前段的尾\n",
    "            pre.next=x\n",
    "            while(y!=x):\n",
    "                z=y.next\n",
    "                y.next=pre.next\n",
    "                pre.next=y\n",
    "                y=z\n",
    "            pre=end\n",
    "        if(y):\n",
    "            pre.next=y\n",
    "        return head.next\n",
    "                \n"
   ]
  },
  {
   "cell_type": "code",
   "execution_count": 22,
   "metadata": {},
   "outputs": [],
   "source": [
    "data=ListNode(1)\n",
    "data.next=ListNode(2)\n",
    "data.next.next=ListNode(3)\n",
    "data.next.next.next=ListNode(4)\n",
    "data.next.next.next.next=ListNode(5)"
   ]
  },
  {
   "cell_type": "code",
   "execution_count": 23,
   "metadata": {},
   "outputs": [
    {
     "name": "stdout",
     "output_type": "stream",
     "text": [
      "3\n",
      "2\n",
      "1\n",
      "4\n",
      "5\n"
     ]
    }
   ],
   "source": [
    "sol=Solution()\n",
    "x=sol.reverseKGroup(data,3)\n",
    "y=x\n",
    "while(y):\n",
    "    print(y.val)\n",
    "    y=y.next"
   ]
  }
 ],
 "metadata": {
  "kernelspec": {
   "display_name": "base",
   "language": "python",
   "name": "python3"
  },
  "language_info": {
   "codemirror_mode": {
    "name": "ipython",
    "version": 3
   },
   "file_extension": ".py",
   "mimetype": "text/x-python",
   "name": "python",
   "nbconvert_exporter": "python",
   "pygments_lexer": "ipython3",
   "version": "3.11.5"
  }
 },
 "nbformat": 4,
 "nbformat_minor": 2
}
