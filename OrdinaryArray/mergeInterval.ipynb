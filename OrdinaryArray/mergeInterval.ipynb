{
 "cells": [
  {
   "cell_type": "code",
   "execution_count": 41,
   "metadata": {},
   "outputs": [],
   "source": [
    "from typing import List\n",
    "class Solution:\n",
    "    def merge(self, intervals: List[List[int]]) -> List[List[int]]:\n",
    "        left=0 \n",
    "        right=1\n",
    "        ans=[]\n",
    "       \n",
    "        intervals_sort=sorted(intervals, key=lambda x: x[0])\n",
    "        max1=intervals_sort[0][1]\n",
    "        while(right<len(intervals_sort)):\n",
    "            if(intervals_sort[right][0]<=max1):\n",
    "                max1=max(max1,intervals_sort[right][1])\n",
    "                right+=1\n",
    "                \n",
    "            else: \n",
    "                temp=[]\n",
    "                temp.append(intervals_sort[left][0])\n",
    "                temp.append( max1)\n",
    "                ans.append(temp)\n",
    "                left=right\n",
    "                max1=intervals_sort[right][1]\n",
    "                right+=1\n",
    "        print(left)\n",
    "        print(right)\n",
    "        print(max1)\n",
    "        if(left==len(intervals_sort)-1):\n",
    "            temp=[]\n",
    "            temp.append(intervals_sort[left][0])\n",
    "            temp.append(intervals_sort[left][1])\n",
    "            ans.append(temp)\n",
    "        else:\n",
    "            temp=[]\n",
    "            temp.append(intervals_sort[left][0])\n",
    "            temp.append(max1)\n",
    "            ans.append(temp)\n",
    "        return ans"
   ]
  },
  {
   "cell_type": "code",
   "execution_count": null,
   "metadata": {},
   "outputs": [
    {
     "name": "stdout",
     "output_type": "stream",
     "text": [
      "[[1, 3], [2, 2], [2, 3], [3, 3], [3, 4], [4, 5], [4, 4]]\n",
      "0\n",
      "7\n",
      "5\n",
      "[[1, 5]]\n"
     ]
    },
    {
     "ename": "",
     "evalue": "",
     "output_type": "error",
     "traceback": [
      "\u001b[1;31m在当前单元格或上一个单元格中执行代码时 Kernel 崩溃。\n",
      "\u001b[1;31m请查看单元格中的代码，以确定故障的可能原因。\n",
      "\u001b[1;31m单击<a href='https://aka.ms/vscodeJupyterKernelCrash'>此处</a>了解详细信息。\n",
      "\u001b[1;31m有关更多详细信息，请查看 Jupyter <a href='command:jupyter.viewOutput'>log</a>。"
     ]
    }
   ],
   "source": [
    "data =[[2,2],[1,3],[3,3],[3,4],[2,3],[4,5],[4,4]]\n",
    "data=sorted(data, key=lambda x: x[0])\n",
    "print(data)\n",
    "sol = Solution()\n",
    "sorted_data = sol.merge(data)\n",
    "print(sorted_data)"
   ]
  }
 ],
 "metadata": {
  "kernelspec": {
   "display_name": "base",
   "language": "python",
   "name": "python3"
  },
  "language_info": {
   "codemirror_mode": {
    "name": "ipython",
    "version": 3
   },
   "file_extension": ".py",
   "mimetype": "text/x-python",
   "name": "python",
   "nbconvert_exporter": "python",
   "pygments_lexer": "ipython3",
   "version": "3.11.5"
  }
 },
 "nbformat": 4,
 "nbformat_minor": 2
}
