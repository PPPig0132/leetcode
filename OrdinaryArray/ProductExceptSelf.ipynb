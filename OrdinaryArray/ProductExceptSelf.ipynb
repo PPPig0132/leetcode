{
 "cells": [
  {
   "cell_type": "markdown",
   "metadata": {},
   "source": [
    "给你一个整数数组 nums，返回 数组 answer ，其中 answer[i] 等于 nums 中除 nums[i] 之外其余各元素的乘积  **不能使用除法**\n",
    "1.判断数组中0的个数，0的个数大于2则返回全0数组，0的个数等于1则只有1个非0元素\n",
    "2.对于不含0的数组，每次变动的只有两个元素，\n",
    "\n",
    "左右乘积队列，两个队列相乘"
   ]
  },
  {
   "cell_type": "code",
   "execution_count": 12,
   "metadata": {},
   "outputs": [],
   "source": [
    "from typing import List\n",
    "class Solution:\n",
    "    def productExceptSelf(self, nums: List[int]) -> List[int]:\n",
    "        prod=1\n",
    "        zeros=[]\n",
    "        ans=[]\n",
    "        for i in range(len(nums)):\n",
    "            if(nums[i]==0):\n",
    "                zeros.append(i)\n",
    "                prod*=1\n",
    "            \n",
    "            else:\n",
    "                prod*=nums[i]\n",
    "        if(len(zeros)>1):\n",
    "            for i in range(len(nums)):\n",
    "                ans.append(0)\n",
    "            return ans\n",
    "        elif(len(zeros)==1):\n",
    "            for i in range(len(nums)):\n",
    "                if(i==zeros[0]):\n",
    "                    ans.append(prod)\n",
    "                else:\n",
    "                    ans.append(0)\n",
    "            return ans\n",
    "        else:\n",
    "            for i in range(len(nums)):\n",
    "                    ans.append(int(prod/nums[i]))\n",
    "            return ans\n",
    "\n",
    "        "
   ]
  },
  {
   "cell_type": "code",
   "execution_count": null,
   "metadata": {},
   "outputs": [
    {
     "name": "stdout",
     "output_type": "stream",
     "text": [
      "[0, 0, 0, 0, 0, 0]\n"
     ]
    },
    {
     "ename": "",
     "evalue": "",
     "output_type": "error",
     "traceback": [
      "\u001b[1;31m在当前单元格或上一个单元格中执行代码时 Kernel 崩溃。\n",
      "\u001b[1;31m请查看单元格中的代码，以确定故障的可能原因。\n",
      "\u001b[1;31m单击<a href='https://aka.ms/vscodeJupyterKernelCrash'>此处</a>了解详细信息。\n",
      "\u001b[1;31m有关更多详细信息，请查看 Jupyter <a href='command:jupyter.viewOutput'>log</a>。"
     ]
    }
   ],
   "source": [
    "data=[0,1,2,3,4,0]\n",
    "sol=Solution()\n",
    "print(sol.productExceptSelf(data))"
   ]
  }
 ],
 "metadata": {
  "kernelspec": {
   "display_name": "base",
   "language": "python",
   "name": "python3"
  },
  "language_info": {
   "codemirror_mode": {
    "name": "ipython",
    "version": 3
   },
   "file_extension": ".py",
   "mimetype": "text/x-python",
   "name": "python",
   "nbconvert_exporter": "python",
   "pygments_lexer": "ipython3",
   "version": "3.11.5"
  }
 },
 "nbformat": 4,
 "nbformat_minor": 2
}
