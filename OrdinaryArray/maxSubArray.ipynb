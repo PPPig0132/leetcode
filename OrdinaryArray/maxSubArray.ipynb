{
 "cells": [
  {
   "cell_type": "markdown",
   "metadata": {},
   "source": [
    "使用双指针，计算左指针到右指针之间子串的最大和，记录最大和，当子串和小于等于0时右移左指针"
   ]
  },
  {
   "cell_type": "code",
   "execution_count": 2,
   "metadata": {},
   "outputs": [],
   "source": [
    "from typing import List\n",
    "class Solution:\n",
    "    def maxSubArray(self, nums: List[int]) -> int:\n",
    "        left=0\n",
    "        right=0\n",
    "        sum=0\n",
    "        max=nums[0]\n",
    "        while(right<len(nums)):\n",
    "            sum+=nums[right]\n",
    "            right+=1\n",
    "            if(sum>max):\n",
    "                max=sum\n",
    "            if(sum<=0):\n",
    "                left=right\n",
    "                sum=0\n",
    "        return max"
   ]
  },
  {
   "cell_type": "code",
   "execution_count": 3,
   "metadata": {},
   "outputs": [
    {
     "name": "stdout",
     "output_type": "stream",
     "text": [
      "23\n"
     ]
    }
   ],
   "source": [
    "nums=[5,4,-1,7,8]\n",
    "sol=Solution()\n",
    "x=sol.maxSubArray(nums)\n",
    "print(x)"
   ]
  }
 ],
 "metadata": {
  "kernelspec": {
   "display_name": "base",
   "language": "python",
   "name": "python3"
  },
  "language_info": {
   "codemirror_mode": {
    "name": "ipython",
    "version": 3
   },
   "file_extension": ".py",
   "mimetype": "text/x-python",
   "name": "python",
   "nbconvert_exporter": "python",
   "pygments_lexer": "ipython3",
   "version": "3.11.5"
  }
 },
 "nbformat": 4,
 "nbformat_minor": 2
}
